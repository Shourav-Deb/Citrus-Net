{
 "cells": [
  {
   "cell_type": "markdown",
   "metadata": {},
   "source": [
    "# Imports, Reproducibility, Config"
   ]
  },
  {
   "cell_type": "code",
   "execution_count": 2,
   "metadata": {
    "_cell_guid": "b1076dfc-b9ad-4769-8c92-a6c4dae69d19",
    "_uuid": "8f2839f25d086af736a60e9eeb907d3b93b6e0e5",
    "execution": {
     "iopub.execute_input": "2025-08-25T13:17:33.989419Z",
     "iopub.status.busy": "2025-08-25T13:17:33.989044Z",
     "iopub.status.idle": "2025-08-25T13:17:34.014092Z",
     "shell.execute_reply": "2025-08-25T13:17:34.007482Z",
     "shell.execute_reply.started": "2025-08-25T13:17:33.989363Z"
    },
    "trusted": true
   },
   "outputs": [
    {
     "name": "stdout",
     "output_type": "stream",
     "text": [
      "Device: cpu\n",
      "Train exists? True\n",
      "Val exists? True\n",
      "Test exists? True\n"
     ]
    }
   ],
   "source": [
    "\n",
    "import os, json, random, math, time\n",
    "from pathlib import Path\n",
    "import numpy as np\n",
    "import pandas as pd\n",
    "import matplotlib.pyplot as plt\n",
    "\n",
    "import torch\n",
    "import torch.nn as nn\n",
    "import torch.nn.functional as F\n",
    "from torch.utils.data import DataLoader\n",
    "from torchvision import datasets, transforms, utils as vutils\n",
    "\n",
    "from sklearn.metrics import classification_report, confusion_matrix\n",
    "import itertools\n",
    "\n",
    "def set_seed(seed=42):\n",
    "    random.seed(seed); np.random.seed(seed); torch.manual_seed(seed); torch.cuda.manual_seed_all(seed)\n",
    "    torch.backends.cudnn.deterministic = True\n",
    "    torch.backends.cudnn.benchmark = False\n",
    "\n",
    "set_seed(42)\n",
    "device = torch.device(\"cuda\" if torch.cuda.is_available() else \"cpu\")\n",
    "print(\"Device:\", device)\n",
    "\n",
    "\n",
    "from pathlib import Path\n",
    "DATA_ROOT = Path(\"/kaggle/input/a-dataset-of-citrus-fruit-images/A Dataset of Citrus Fruit Images/CitrusFruit/Augmentation\")\n",
    "\n",
    "train_dir = DATA_ROOT / \"Train-A\"\n",
    "val_dir   = DATA_ROOT / \"Val-A\"\n",
    "test_dir  = DATA_ROOT / \"Test-A\"\n",
    "\n",
    "print(\"Train exists?\", train_dir.exists())\n",
    "print(\"Val exists?\", val_dir.exists())\n",
    "print(\"Test exists?\", test_dir.exists())\n",
    "\n",
    "IM_SIZE    = 224\n",
    "BATCH_SIZE = 32\n",
    "NUM_WORKERS= 2\n",
    "MAX_EPOCHS = 20\n",
    "EARLY_STOP_PATIENCE = 4"
   ]
  },
  {
   "cell_type": "markdown",
   "metadata": {},
   "source": [
    "# 1)Transforms, Datasets, DataLoaders"
   ]
  },
  {
   "cell_type": "code",
   "execution_count": 3,
   "metadata": {
    "execution": {
     "iopub.execute_input": "2025-08-25T13:17:37.196959Z",
     "iopub.status.busy": "2025-08-25T13:17:37.196612Z",
     "iopub.status.idle": "2025-08-25T13:17:48.405542Z",
     "shell.execute_reply": "2025-08-25T13:17:48.399785Z",
     "shell.execute_reply.started": "2025-08-25T13:17:37.196933Z"
    },
    "trusted": true
   },
   "outputs": [
    {
     "name": "stdout",
     "output_type": "stream",
     "text": [
      "Classes: ['murcott', 'ponkan', 'tangerine', 'tankan']  | NUM_CLASSES: 4\n",
      "Train: 5796 images, 182 batches\n",
      "Val: 1650 images, 52 batches\n",
      "Test: 138 images, 5 batches\n"
     ]
    }
   ],
   "source": [
    "# ==========================================\n",
    "# 1) Transforms & Datasets (Train / Val / Test)\n",
    "# ==========================================\n",
    "train_tfms = transforms.Compose([\n",
    "    transforms.Resize((IM_SIZE, IM_SIZE)),\n",
    "    transforms.RandomHorizontalFlip(p=0.5),\n",
    "    transforms.RandomRotation(degrees=15),\n",
    "    transforms.ColorJitter(brightness=0.2, contrast=0.2, saturation=0.15, hue=0.05),\n",
    "    transforms.ToTensor(),\n",
    "    transforms.Normalize(mean=[0.485,0.456,0.406], std=[0.229,0.224,0.225]),\n",
    "])\n",
    "\n",
    "eval_tfms = transforms.Compose([\n",
    "    transforms.Resize((IM_SIZE, IM_SIZE)),\n",
    "    transforms.ToTensor(),\n",
    "    transforms.Normalize(mean=[0.485,0.456,0.406], std=[0.229,0.224,0.225]),\n",
    "])\n",
    "\n",
    "train_dir = DATA_ROOT / \"Train-A\"\n",
    "val_dir   = DATA_ROOT / \"Val-A\"\n",
    "test_dir  = DATA_ROOT / \"Test-A\"\n",
    "\n",
    "train_ds = datasets.ImageFolder(train_dir, transform=train_tfms)\n",
    "val_ds   = datasets.ImageFolder(val_dir,   transform=eval_tfms)\n",
    "test_ds  = datasets.ImageFolder(test_dir,  transform=eval_tfms)\n",
    "\n",
    "CLASSES = train_ds.classes\n",
    "NUM_CLASSES = len(CLASSES)\n",
    "print(\"Classes:\", CLASSES, \" | NUM_CLASSES:\", NUM_CLASSES)\n",
    "\n",
    "# Save mapping for later use (Streamlit etc.)\n",
    "with open(\"class_to_idx.json\",\"w\") as f:\n",
    "    json.dump(train_ds.class_to_idx, f, indent=2)\n",
    "\n",
    "train_loader = DataLoader(train_ds, batch_size=BATCH_SIZE, shuffle=True,  num_workers=NUM_WORKERS, pin_memory=True)\n",
    "val_loader   = DataLoader(val_ds,   batch_size=BATCH_SIZE, shuffle=False, num_workers=NUM_WORKERS, pin_memory=True)\n",
    "test_loader  = DataLoader(test_ds,  batch_size=BATCH_SIZE, shuffle=False, num_workers=NUM_WORKERS, pin_memory=True)\n",
    "\n",
    "for name, dl in [(\"Train\",train_loader),(\"Val\",val_loader),(\"Test\",test_loader)]:\n",
    "    print(f\"{name}: {len(dl.dataset)} images, {len(dl)} batches\")\n"
   ]
  },
  {
   "cell_type": "markdown",
   "metadata": {},
   "source": [
    "# 2) Model Definition (Depthwise‑Separable + Residual)"
   ]
  },
  {
   "cell_type": "code",
   "execution_count": null,
   "metadata": {
    "execution": {
     "iopub.execute_input": "2025-08-25T13:18:14.763464Z",
     "iopub.status.busy": "2025-08-25T13:18:14.763063Z",
     "iopub.status.idle": "2025-08-25T13:18:14.798362Z",
     "shell.execute_reply": "2025-08-25T13:18:14.791326Z",
     "shell.execute_reply.started": "2025-08-25T13:18:14.763434Z"
    },
    "trusted": true
   },
   "outputs": [
    {
     "name": "stdout",
     "output_type": "stream",
     "text": [
      "CitrusNet(\n",
      "  (stem): Sequential(\n",
      "    (0): Conv2d(3, 32, kernel_size=(3, 3), stride=(2, 2), padding=(1, 1), bias=False)\n",
      "    (1): BatchNorm2d(32, eps=1e-05, momentum=0.1, affine=True, track_running_stats=True)\n",
      "    (2): ReLU(inplace=True)\n",
      "  )\n",
      "  (stage1): ResidualBlock(\n",
      "    (conv): DepthwiseSeparableConv(\n",
      "      (dw): Conv2d(32, 32, kernel_size=(3, 3), stride=(1, 1), padding=(1, 1), groups=32, bias=False)\n",
      "      (dw_bn): BatchNorm2d(32, eps=1e-05, momentum=0.1, affine=True, track_running_stats=True)\n",
      "      (pw): Conv2d(32, 64, kernel_size=(1, 1), stride=(1, 1), bias=False)\n",
      "      (pw_bn): BatchNorm2d(64, eps=1e-05, momentum=0.1, affine=True, track_running_stats=True)\n",
      "      (drop): Dropout(p=0.1, inplace=False)\n",
      "    )\n",
      "    (proj): Sequential(\n",
      "      (0): Conv2d(32, 64, kernel_size=(1, 1), stride=(1, 1), bias=False)\n",
      "      (1): BatchNorm2d(64, eps=1e-05, momentum=0.1, affine=True, track_running_stats=True)\n",
      "    )\n",
      "  )\n",
      "  (stage2): ResidualBlock(\n",
      "    (conv): DepthwiseSeparableConv(\n",
      "      (dw): Conv2d(64, 64, kernel_size=(3, 3), stride=(1, 1), padding=(1, 1), groups=64, bias=False)\n",
      "      (dw_bn): BatchNorm2d(64, eps=1e-05, momentum=0.1, affine=True, track_running_stats=True)\n",
      "      (pw): Conv2d(64, 64, kernel_size=(1, 1), stride=(1, 1), bias=False)\n",
      "      (pw_bn): BatchNorm2d(64, eps=1e-05, momentum=0.1, affine=True, track_running_stats=True)\n",
      "      (drop): Dropout(p=0.1, inplace=False)\n",
      "    )\n",
      "  )\n",
      "  (stage3): ResidualBlock(\n",
      "    (conv): DepthwiseSeparableConv(\n",
      "      (dw): Conv2d(64, 64, kernel_size=(3, 3), stride=(2, 2), padding=(1, 1), groups=64, bias=False)\n",
      "      (dw_bn): BatchNorm2d(64, eps=1e-05, momentum=0.1, affine=True, track_running_stats=True)\n",
      "      (pw): Conv2d(64, 128, kernel_size=(1, 1), stride=(1, 1), bias=False)\n",
      "      (pw_bn): BatchNorm2d(128, eps=1e-05, momentum=0.1, affine=True, track_running_stats=True)\n",
      "      (drop): Dropout(p=0.1, inplace=False)\n",
      "    )\n",
      "    (proj): Sequential(\n",
      "      (0): Conv2d(64, 128, kernel_size=(1, 1), stride=(2, 2), bias=False)\n",
      "      (1): BatchNorm2d(128, eps=1e-05, momentum=0.1, affine=True, track_running_stats=True)\n",
      "    )\n",
      "  )\n",
      "  (stage4): ResidualBlock(\n",
      "    (conv): DepthwiseSeparableConv(\n",
      "      (dw): Conv2d(128, 128, kernel_size=(3, 3), stride=(1, 1), padding=(1, 1), groups=128, bias=False)\n",
      "      (dw_bn): BatchNorm2d(128, eps=1e-05, momentum=0.1, affine=True, track_running_stats=True)\n",
      "      (pw): Conv2d(128, 128, kernel_size=(1, 1), stride=(1, 1), bias=False)\n",
      "      (pw_bn): BatchNorm2d(128, eps=1e-05, momentum=0.1, affine=True, track_running_stats=True)\n",
      "      (drop): Dropout(p=0.1, inplace=False)\n",
      "    )\n",
      "  )\n",
      "  (stage5): ResidualBlock(\n",
      "    (conv): DepthwiseSeparableConv(\n",
      "      (dw): Conv2d(128, 128, kernel_size=(3, 3), stride=(2, 2), padding=(1, 1), groups=128, bias=False)\n",
      "      (dw_bn): BatchNorm2d(128, eps=1e-05, momentum=0.1, affine=True, track_running_stats=True)\n",
      "      (pw): Conv2d(128, 256, kernel_size=(1, 1), stride=(1, 1), bias=False)\n",
      "      (pw_bn): BatchNorm2d(256, eps=1e-05, momentum=0.1, affine=True, track_running_stats=True)\n",
      "      (drop): Dropout(p=0.1, inplace=False)\n",
      "    )\n",
      "    (proj): Sequential(\n",
      "      (0): Conv2d(128, 256, kernel_size=(1, 1), stride=(2, 2), bias=False)\n",
      "      (1): BatchNorm2d(256, eps=1e-05, momentum=0.1, affine=True, track_running_stats=True)\n",
      "    )\n",
      "  )\n",
      "  (stage6): ResidualBlock(\n",
      "    (conv): DepthwiseSeparableConv(\n",
      "      (dw): Conv2d(256, 256, kernel_size=(3, 3), stride=(1, 1), padding=(1, 1), groups=256, bias=False)\n",
      "      (dw_bn): BatchNorm2d(256, eps=1e-05, momentum=0.1, affine=True, track_running_stats=True)\n",
      "      (pw): Conv2d(256, 256, kernel_size=(1, 1), stride=(1, 1), bias=False)\n",
      "      (pw_bn): BatchNorm2d(256, eps=1e-05, momentum=0.1, affine=True, track_running_stats=True)\n",
      "      (drop): Dropout(p=0.1, inplace=False)\n",
      "    )\n",
      "  )\n",
      "  (head): Sequential(\n",
      "    (0): AdaptiveAvgPool2d(output_size=1)\n",
      "    (1): Flatten(start_dim=1, end_dim=-1)\n",
      "    (2): Dropout(p=0.3, inplace=False)\n",
      "    (3): Linear(in_features=256, out_features=4, bias=True)\n",
      "  )\n",
      ")\n"
     ]
    }
   ],
   "source": [
    "# ==========================================\n",
    "# 2) Model: Custom CNN (Depthwise-Separable + Residual)  (By Deb)\n",
    "# ==========================================\n",
    "class DepthwiseSeparableConv(nn.Module):\n",
    "    \"\"\"\n",
    "    DW conv (groups=in_ch, k=3) + BN + ReLU  ->  PW conv (1x1) + BN + ReLU\n",
    "    \"\"\"\n",
    "    def __init__(self, in_ch, out_ch, stride=1, p_drop=0.0):\n",
    "        super().__init__()\n",
    "        self.dw = nn.Conv2d(in_ch, in_ch, kernel_size=3, stride=stride, padding=1, groups=in_ch, bias=False)\n",
    "        self.dw_bn = nn.BatchNorm2d(in_ch)\n",
    "        self.pw = nn.Conv2d(in_ch, out_ch, kernel_size=1, bias=False)\n",
    "        self.pw_bn = nn.BatchNorm2d(out_ch)\n",
    "        self.drop = nn.Dropout(p_drop) if p_drop>0 else nn.Identity()\n",
    "\n",
    "    def forward(self, x):\n",
    "        x = F.relu(self.dw_bn(self.dw(x)), inplace=True)\n",
    "        x = F.relu(self.pw_bn(self.pw(x)), inplace=True)\n",
    "        x = self.drop(x)\n",
    "        return x\n",
    "\n",
    "class ResidualBlock(nn.Module):\n",
    "    \"\"\"\n",
    "    Residual wrapper around a DS-Conv block. Projection used if channels/stride differ.\n",
    "    \"\"\"\n",
    "    def __init__(self, in_ch, out_ch, stride=1, p_drop=0.0):\n",
    "        super().__init__()\n",
    "        self.conv = DepthwiseSeparableConv(in_ch, out_ch, stride=stride, p_drop=p_drop)\n",
    "        self.proj = None\n",
    "        if stride != 1 or in_ch != out_ch:\n",
    "            self.proj = nn.Sequential(\n",
    "                nn.Conv2d(in_ch, out_ch, kernel_size=1, stride=stride, bias=False),\n",
    "                nn.BatchNorm2d(out_ch),\n",
    "            )\n",
    "\n",
    "    def forward(self, x):\n",
    "        out = self.conv(x)\n",
    "        res = x if self.proj is None else self.proj(x)\n",
    "        return F.relu(out + res, inplace=True)\n",
    "\n",
    "class CitrusNet(nn.Module):\n",
    "    \"\"\"\n",
    "    Stem -> [Res(DSConv)]x4 with channel growth -> GAP -> Dropout -> Linear\n",
    "    ~0.6-1.2M params depending on widths; lightweight yet expressive.\n",
    "    \"\"\"\n",
    "    def __init__(self, num_classes=4, width=(32,64,128,256), p_drop=0.15):\n",
    "        super().__init__()\n",
    "        w1, w2, w3, w4 = width\n",
    "        # Stem: 3x3 conv stride=2 to quickly reduce spatial size\n",
    "        self.stem = nn.Sequential(\n",
    "            nn.Conv2d(3, w1, kernel_size=3, stride=2, padding=1, bias=False),\n",
    "            nn.BatchNorm2d(w1),\n",
    "            nn.ReLU(inplace=True),\n",
    "        )\n",
    "        # Stages (each with downsample via stride=2 at the start of the stage)\n",
    "        self.stage1 = ResidualBlock(w1,  w2, stride=1, p_drop=p_drop)  # keep size\n",
    "        self.stage2 = ResidualBlock(w2,  w2, stride=1, p_drop=p_drop)\n",
    "        self.stage3 = ResidualBlock(w2,  w3, stride=2, p_drop=p_drop)  # downsample\n",
    "        self.stage4 = ResidualBlock(w3,  w3, stride=1, p_drop=p_drop)\n",
    "        self.stage5 = ResidualBlock(w3,  w4, stride=2, p_drop=p_drop)  # downsample\n",
    "        self.stage6 = ResidualBlock(w4,  w4, stride=1, p_drop=p_drop)\n",
    "\n",
    "        self.head = nn.Sequential(\n",
    "            nn.AdaptiveAvgPool2d(1),      # Global Average Pool\n",
    "            nn.Flatten(),\n",
    "            nn.Dropout(0.30),\n",
    "            nn.Linear(w4, num_classes)\n",
    "        )\n",
    "\n",
    "        # Kaiming init\n",
    "        for m in self.modules():\n",
    "            if isinstance(m, (nn.Conv2d, nn.Linear)):\n",
    "                nn.init.kaiming_normal_(m.weight, nonlinearity=\"relu\")\n",
    "            if isinstance(m, nn.BatchNorm2d):\n",
    "                nn.init.constant_(m.weight, 1.0); nn.init.constant_(m.bias, 0.0)\n",
    "\n",
    "    def forward(self, x):\n",
    "        x = self.stem(x)\n",
    "        x = self.stage1(x); x = self.stage2(x)\n",
    "        x = self.stage3(x); x = self.stage4(x)\n",
    "        x = self.stage5(x); x = self.stage6(x)\n",
    "        x = self.head(x)\n",
    "        return x\n",
    "\n",
    "model = CitrusNet(num_classes=NUM_CLASSES, width=(32, 64, 128, 256), p_drop=0.10).to(device)\n",
    "print(model)\n"
   ]
  },
  {
   "cell_type": "markdown",
   "metadata": {},
   "source": [
    "# 3) Optimizer, Scheduler, AMP, Early‑Stopping Settings"
   ]
  },
  {
   "cell_type": "code",
   "execution_count": 6,
   "metadata": {
    "execution": {
     "iopub.execute_input": "2025-08-25T13:18:19.234295Z",
     "iopub.status.busy": "2025-08-25T13:18:19.233938Z",
     "iopub.status.idle": "2025-08-25T13:18:19.247489Z",
     "shell.execute_reply": "2025-08-25T13:18:19.242150Z",
     "shell.execute_reply.started": "2025-08-25T13:18:19.234266Z"
    },
    "trusted": true
   },
   "outputs": [
    {
     "name": "stderr",
     "output_type": "stream",
     "text": [
      "/usr/local/lib/python3.10/site-packages/torch/optim/lr_scheduler.py:62: UserWarning: The verbose parameter is deprecated. Please use get_last_lr() to access the learning rate.\n",
      "  warnings.warn(\n",
      "/tmp/ipykernel_10/4073034100.py:7: FutureWarning: `torch.cuda.amp.GradScaler(args...)` is deprecated. Please use `torch.amp.GradScaler('cuda', args...)` instead.\n",
      "  scaler = torch.cuda.amp.GradScaler(enabled=(device.type==\"cuda\"))\n"
     ]
    }
   ],
   "source": [
    "# ==========================================\n",
    "# 3) Optimizer, Scheduler, AMP, Early-Stopping\n",
    "# ==========================================\n",
    "criterion = nn.CrossEntropyLoss()\n",
    "optimizer = torch.optim.AdamW(model.parameters(), lr=1e-3, weight_decay=1e-4)\n",
    "scheduler = torch.optim.lr_scheduler.ReduceLROnPlateau(optimizer, mode=\"max\", factor=0.5, patience=2, verbose=True)\n",
    "scaler = torch.cuda.amp.GradScaler(enabled=(device.type==\"cuda\"))\n"
   ]
  },
  {
   "cell_type": "markdown",
   "metadata": {},
   "source": [
    "# 4) Train/Val Loops (with AMP) + Early Stop on Macro‑F1"
   ]
  },
  {
   "cell_type": "code",
   "execution_count": 7,
   "metadata": {
    "execution": {
     "iopub.execute_input": "2025-08-25T13:18:21.867614Z",
     "iopub.status.busy": "2025-08-25T13:18:21.867286Z",
     "iopub.status.idle": "2025-08-25T15:07:04.054713Z",
     "shell.execute_reply": "2025-08-25T15:07:04.049040Z",
     "shell.execute_reply.started": "2025-08-25T13:18:21.867587Z"
    },
    "trusted": true
   },
   "outputs": [
    {
     "name": "stderr",
     "output_type": "stream",
     "text": [
      "/tmp/ipykernel_10/1901612855.py:43: FutureWarning: `torch.cuda.amp.autocast(args...)` is deprecated. Please use `torch.amp.autocast('cuda', args...)` instead.\n",
      "  with torch.cuda.amp.autocast(enabled=(device.type==\"cuda\")):\n",
      "/tmp/ipykernel_10/1901612855.py:15: FutureWarning: `torch.cuda.amp.autocast(args...)` is deprecated. Please use `torch.amp.autocast('cuda', args...)` instead.\n",
      "  with torch.cuda.amp.autocast(enabled=(device.type==\"cuda\")):\n"
     ]
    },
    {
     "name": "stdout",
     "output_type": "stream",
     "text": [
      "Epoch 01/20 | 618.7s | train_loss 0.9215 acc 0.6246 | val_loss 0.6985 acc 0.7048 f1 0.6749\n",
      "  ✓ Saved new best to custom_cnn_best.pt (val_f1=0.6749)\n"
     ]
    },
    {
     "name": "stderr",
     "output_type": "stream",
     "text": [
      "/tmp/ipykernel_10/1901612855.py:43: FutureWarning: `torch.cuda.amp.autocast(args...)` is deprecated. Please use `torch.amp.autocast('cuda', args...)` instead.\n",
      "  with torch.cuda.amp.autocast(enabled=(device.type==\"cuda\")):\n",
      "/tmp/ipykernel_10/1901612855.py:15: FutureWarning: `torch.cuda.amp.autocast(args...)` is deprecated. Please use `torch.amp.autocast('cuda', args...)` instead.\n",
      "  with torch.cuda.amp.autocast(enabled=(device.type==\"cuda\")):\n"
     ]
    },
    {
     "name": "stdout",
     "output_type": "stream",
     "text": [
      "Epoch 02/20 | 463.4s | train_loss 0.7010 acc 0.7196 | val_loss 0.5159 acc 0.7945 f1 0.7870\n",
      "  ✓ Saved new best to custom_cnn_best.pt (val_f1=0.7870)\n"
     ]
    },
    {
     "name": "stderr",
     "output_type": "stream",
     "text": [
      "/tmp/ipykernel_10/1901612855.py:43: FutureWarning: `torch.cuda.amp.autocast(args...)` is deprecated. Please use `torch.amp.autocast('cuda', args...)` instead.\n",
      "  with torch.cuda.amp.autocast(enabled=(device.type==\"cuda\")):\n",
      "/tmp/ipykernel_10/1901612855.py:15: FutureWarning: `torch.cuda.amp.autocast(args...)` is deprecated. Please use `torch.amp.autocast('cuda', args...)` instead.\n",
      "  with torch.cuda.amp.autocast(enabled=(device.type==\"cuda\")):\n"
     ]
    },
    {
     "name": "stdout",
     "output_type": "stream",
     "text": [
      "Epoch 03/20 | 467.1s | train_loss 0.5992 acc 0.7673 | val_loss 0.4597 acc 0.8515 f1 0.8463\n",
      "  ✓ Saved new best to custom_cnn_best.pt (val_f1=0.8463)\n"
     ]
    },
    {
     "name": "stderr",
     "output_type": "stream",
     "text": [
      "/tmp/ipykernel_10/1901612855.py:43: FutureWarning: `torch.cuda.amp.autocast(args...)` is deprecated. Please use `torch.amp.autocast('cuda', args...)` instead.\n",
      "  with torch.cuda.amp.autocast(enabled=(device.type==\"cuda\")):\n",
      "/tmp/ipykernel_10/1901612855.py:15: FutureWarning: `torch.cuda.amp.autocast(args...)` is deprecated. Please use `torch.amp.autocast('cuda', args...)` instead.\n",
      "  with torch.cuda.amp.autocast(enabled=(device.type==\"cuda\")):\n"
     ]
    },
    {
     "name": "stdout",
     "output_type": "stream",
     "text": [
      "Epoch 04/20 | 467.7s | train_loss 0.4802 acc 0.8100 | val_loss 0.6966 acc 0.7933 f1 0.7808\n"
     ]
    },
    {
     "name": "stderr",
     "output_type": "stream",
     "text": [
      "/tmp/ipykernel_10/1901612855.py:43: FutureWarning: `torch.cuda.amp.autocast(args...)` is deprecated. Please use `torch.amp.autocast('cuda', args...)` instead.\n",
      "  with torch.cuda.amp.autocast(enabled=(device.type==\"cuda\")):\n",
      "/tmp/ipykernel_10/1901612855.py:15: FutureWarning: `torch.cuda.amp.autocast(args...)` is deprecated. Please use `torch.amp.autocast('cuda', args...)` instead.\n",
      "  with torch.cuda.amp.autocast(enabled=(device.type==\"cuda\")):\n"
     ]
    },
    {
     "name": "stdout",
     "output_type": "stream",
     "text": [
      "Epoch 05/20 | 445.2s | train_loss 0.4304 acc 0.8323 | val_loss 0.3503 acc 0.8727 f1 0.8671\n",
      "  ✓ Saved new best to custom_cnn_best.pt (val_f1=0.8671)\n"
     ]
    },
    {
     "name": "stderr",
     "output_type": "stream",
     "text": [
      "/tmp/ipykernel_10/1901612855.py:43: FutureWarning: `torch.cuda.amp.autocast(args...)` is deprecated. Please use `torch.amp.autocast('cuda', args...)` instead.\n",
      "  with torch.cuda.amp.autocast(enabled=(device.type==\"cuda\")):\n",
      "/tmp/ipykernel_10/1901612855.py:15: FutureWarning: `torch.cuda.amp.autocast(args...)` is deprecated. Please use `torch.amp.autocast('cuda', args...)` instead.\n",
      "  with torch.cuda.amp.autocast(enabled=(device.type==\"cuda\")):\n"
     ]
    },
    {
     "name": "stdout",
     "output_type": "stream",
     "text": [
      "Epoch 06/20 | 442.6s | train_loss 0.3946 acc 0.8439 | val_loss 0.4467 acc 0.8703 f1 0.8700\n",
      "  ✓ Saved new best to custom_cnn_best.pt (val_f1=0.8700)\n"
     ]
    },
    {
     "name": "stderr",
     "output_type": "stream",
     "text": [
      "/tmp/ipykernel_10/1901612855.py:43: FutureWarning: `torch.cuda.amp.autocast(args...)` is deprecated. Please use `torch.amp.autocast('cuda', args...)` instead.\n",
      "  with torch.cuda.amp.autocast(enabled=(device.type==\"cuda\")):\n",
      "/tmp/ipykernel_10/1901612855.py:15: FutureWarning: `torch.cuda.amp.autocast(args...)` is deprecated. Please use `torch.amp.autocast('cuda', args...)` instead.\n",
      "  with torch.cuda.amp.autocast(enabled=(device.type==\"cuda\")):\n"
     ]
    },
    {
     "name": "stdout",
     "output_type": "stream",
     "text": [
      "Epoch 07/20 | 443.6s | train_loss 0.3292 acc 0.8730 | val_loss 0.3149 acc 0.9097 f1 0.9088\n",
      "  ✓ Saved new best to custom_cnn_best.pt (val_f1=0.9088)\n"
     ]
    },
    {
     "name": "stderr",
     "output_type": "stream",
     "text": [
      "/tmp/ipykernel_10/1901612855.py:43: FutureWarning: `torch.cuda.amp.autocast(args...)` is deprecated. Please use `torch.amp.autocast('cuda', args...)` instead.\n",
      "  with torch.cuda.amp.autocast(enabled=(device.type==\"cuda\")):\n",
      "/tmp/ipykernel_10/1901612855.py:15: FutureWarning: `torch.cuda.amp.autocast(args...)` is deprecated. Please use `torch.amp.autocast('cuda', args...)` instead.\n",
      "  with torch.cuda.amp.autocast(enabled=(device.type==\"cuda\")):\n"
     ]
    },
    {
     "name": "stdout",
     "output_type": "stream",
     "text": [
      "Epoch 08/20 | 477.1s | train_loss 0.2827 acc 0.8942 | val_loss 0.3262 acc 0.8964 f1 0.8936\n"
     ]
    },
    {
     "name": "stderr",
     "output_type": "stream",
     "text": [
      "/tmp/ipykernel_10/1901612855.py:43: FutureWarning: `torch.cuda.amp.autocast(args...)` is deprecated. Please use `torch.amp.autocast('cuda', args...)` instead.\n",
      "  with torch.cuda.amp.autocast(enabled=(device.type==\"cuda\")):\n",
      "/tmp/ipykernel_10/1901612855.py:15: FutureWarning: `torch.cuda.amp.autocast(args...)` is deprecated. Please use `torch.amp.autocast('cuda', args...)` instead.\n",
      "  with torch.cuda.amp.autocast(enabled=(device.type==\"cuda\")):\n"
     ]
    },
    {
     "name": "stdout",
     "output_type": "stream",
     "text": [
      "Epoch 09/20 | 446.7s | train_loss 0.2614 acc 0.9060 | val_loss 0.2910 acc 0.9091 f1 0.9089\n",
      "  ✓ Saved new best to custom_cnn_best.pt (val_f1=0.9089)\n"
     ]
    },
    {
     "name": "stderr",
     "output_type": "stream",
     "text": [
      "/tmp/ipykernel_10/1901612855.py:43: FutureWarning: `torch.cuda.amp.autocast(args...)` is deprecated. Please use `torch.amp.autocast('cuda', args...)` instead.\n",
      "  with torch.cuda.amp.autocast(enabled=(device.type==\"cuda\")):\n",
      "/tmp/ipykernel_10/1901612855.py:15: FutureWarning: `torch.cuda.amp.autocast(args...)` is deprecated. Please use `torch.amp.autocast('cuda', args...)` instead.\n",
      "  with torch.cuda.amp.autocast(enabled=(device.type==\"cuda\")):\n"
     ]
    },
    {
     "name": "stdout",
     "output_type": "stream",
     "text": [
      "Epoch 10/20 | 438.1s | train_loss 0.2584 acc 0.9073 | val_loss 0.2489 acc 0.9236 f1 0.9226\n",
      "  ✓ Saved new best to custom_cnn_best.pt (val_f1=0.9226)\n"
     ]
    },
    {
     "name": "stderr",
     "output_type": "stream",
     "text": [
      "/tmp/ipykernel_10/1901612855.py:43: FutureWarning: `torch.cuda.amp.autocast(args...)` is deprecated. Please use `torch.amp.autocast('cuda', args...)` instead.\n",
      "  with torch.cuda.amp.autocast(enabled=(device.type==\"cuda\")):\n",
      "/tmp/ipykernel_10/1901612855.py:15: FutureWarning: `torch.cuda.amp.autocast(args...)` is deprecated. Please use `torch.amp.autocast('cuda', args...)` instead.\n",
      "  with torch.cuda.amp.autocast(enabled=(device.type==\"cuda\")):\n"
     ]
    },
    {
     "name": "stdout",
     "output_type": "stream",
     "text": [
      "Epoch 11/20 | 445.8s | train_loss 0.2099 acc 0.9220 | val_loss 0.2606 acc 0.9152 f1 0.9146\n"
     ]
    },
    {
     "name": "stderr",
     "output_type": "stream",
     "text": [
      "/tmp/ipykernel_10/1901612855.py:43: FutureWarning: `torch.cuda.amp.autocast(args...)` is deprecated. Please use `torch.amp.autocast('cuda', args...)` instead.\n",
      "  with torch.cuda.amp.autocast(enabled=(device.type==\"cuda\")):\n",
      "/tmp/ipykernel_10/1901612855.py:15: FutureWarning: `torch.cuda.amp.autocast(args...)` is deprecated. Please use `torch.amp.autocast('cuda', args...)` instead.\n",
      "  with torch.cuda.amp.autocast(enabled=(device.type==\"cuda\")):\n"
     ]
    },
    {
     "name": "stdout",
     "output_type": "stream",
     "text": [
      "Epoch 12/20 | 446.7s | train_loss 0.2079 acc 0.9217 | val_loss 0.3497 acc 0.9061 f1 0.9051\n"
     ]
    },
    {
     "name": "stderr",
     "output_type": "stream",
     "text": [
      "/tmp/ipykernel_10/1901612855.py:43: FutureWarning: `torch.cuda.amp.autocast(args...)` is deprecated. Please use `torch.amp.autocast('cuda', args...)` instead.\n",
      "  with torch.cuda.amp.autocast(enabled=(device.type==\"cuda\")):\n",
      "/tmp/ipykernel_10/1901612855.py:15: FutureWarning: `torch.cuda.amp.autocast(args...)` is deprecated. Please use `torch.amp.autocast('cuda', args...)` instead.\n",
      "  with torch.cuda.amp.autocast(enabled=(device.type==\"cuda\")):\n"
     ]
    },
    {
     "name": "stdout",
     "output_type": "stream",
     "text": [
      "Epoch 13/20 | 465.1s | train_loss 0.2022 acc 0.9239 | val_loss 0.2415 acc 0.9176 f1 0.9164\n"
     ]
    },
    {
     "name": "stderr",
     "output_type": "stream",
     "text": [
      "/tmp/ipykernel_10/1901612855.py:43: FutureWarning: `torch.cuda.amp.autocast(args...)` is deprecated. Please use `torch.amp.autocast('cuda', args...)` instead.\n",
      "  with torch.cuda.amp.autocast(enabled=(device.type==\"cuda\")):\n",
      "/tmp/ipykernel_10/1901612855.py:15: FutureWarning: `torch.cuda.amp.autocast(args...)` is deprecated. Please use `torch.amp.autocast('cuda', args...)` instead.\n",
      "  with torch.cuda.amp.autocast(enabled=(device.type==\"cuda\")):\n"
     ]
    },
    {
     "name": "stdout",
     "output_type": "stream",
     "text": [
      "Epoch 14/20 | 454.3s | train_loss 0.1649 acc 0.9377 | val_loss 0.2878 acc 0.9230 f1 0.9227\n",
      "  ✳ Early stopping at epoch 14 (no improvement for 4 epochs).\n"
     ]
    }
   ],
   "source": [
    "# ==========================================\n",
    "# 4) Training / Validation Loops\n",
    "# ==========================================\n",
    "def accuracy_from_logits(logits, targets):\n",
    "    preds = torch.argmax(logits, dim=1)\n",
    "    return (preds == targets).float().mean().item()\n",
    "\n",
    "@torch.no_grad()\n",
    "def evaluate(model, loader):\n",
    "    model.eval()\n",
    "    all_targets, all_preds = [], []\n",
    "    total_loss, total_correct, total = 0.0, 0, 0\n",
    "    for imgs, targets in loader:\n",
    "        imgs, targets = imgs.to(device), targets.to(device)\n",
    "        with torch.cuda.amp.autocast(enabled=(device.type==\"cuda\")):\n",
    "            logits = model(imgs)\n",
    "            loss = criterion(logits, targets)\n",
    "        preds = torch.argmax(logits, dim=1)\n",
    "        total_loss += loss.item() * targets.size(0)\n",
    "        total_correct += (preds == targets).sum().item()\n",
    "        total += targets.size(0)\n",
    "        all_targets.extend(targets.detach().cpu().tolist())\n",
    "        all_preds.extend(preds.detach().cpu().tolist())\n",
    "    avg_loss = total_loss / total\n",
    "    acc = total_correct / total\n",
    "    # F1/precision/recall (macro for balanced view)\n",
    "    report = classification_report(all_targets, all_preds, target_names=CLASSES, output_dict=True, zero_division=0)\n",
    "    f1_macro = report[\"macro avg\"][\"f1-score\"]\n",
    "    return avg_loss, acc, f1_macro, np.array(all_targets), np.array(all_preds)\n",
    "\n",
    "history = {\"train_loss\":[], \"train_acc\":[], \"val_loss\":[], \"val_acc\":[], \"val_f1\":[]}\n",
    "best_f1 = -1.0\n",
    "best_path = \"custom_cnn_best.pt\"\n",
    "epochs_no_improve = 0\n",
    "\n",
    "for epoch in range(1, MAX_EPOCHS+1):\n",
    "    model.train()\n",
    "    epoch_loss, epoch_correct, epoch_total = 0.0, 0, 0\n",
    "    t0 = time.time()\n",
    "    for imgs, targets in train_loader:\n",
    "        imgs, targets = imgs.to(device), targets.to(device)\n",
    "        optimizer.zero_grad(set_to_none=True)\n",
    "        with torch.cuda.amp.autocast(enabled=(device.type==\"cuda\")):\n",
    "            logits = model(imgs)\n",
    "            loss = criterion(logits, targets)\n",
    "        scaler.scale(loss).backward()\n",
    "        scaler.step(optimizer)\n",
    "        scaler.update()\n",
    "\n",
    "        epoch_loss += loss.item() * targets.size(0)\n",
    "        epoch_correct += (logits.argmax(1) == targets).sum().item()\n",
    "        epoch_total += targets.size(0)\n",
    "\n",
    "    train_loss = epoch_loss / epoch_total\n",
    "    train_acc  = epoch_correct / epoch_total\n",
    "\n",
    "    val_loss, val_acc, val_f1, _, _ = evaluate(model, val_loader)\n",
    "    scheduler.step(val_f1)  # plateau on macro-F1\n",
    "\n",
    "    history[\"train_loss\"].append(train_loss)\n",
    "    history[\"train_acc\"].append(train_acc)\n",
    "    history[\"val_loss\"].append(val_loss)\n",
    "    history[\"val_acc\"].append(val_acc)\n",
    "    history[\"val_f1\"].append(val_f1)\n",
    "\n",
    "    took = time.time()-t0\n",
    "    print(f\"Epoch {epoch:02d}/{MAX_EPOCHS} | {took:.1f}s | train_loss {train_loss:.4f} acc {train_acc:.4f} | val_loss {val_loss:.4f} acc {val_acc:.4f} f1 {val_f1:.4f}\")\n",
    "\n",
    "    # Early stopping on best macro-F1\n",
    "    if val_f1 > best_f1 + 1e-4:\n",
    "        best_f1 = val_f1\n",
    "        epochs_no_improve = 0\n",
    "        torch.save({\n",
    "            \"model_state\": model.state_dict(),\n",
    "            \"class_to_idx\": train_ds.class_to_idx,\n",
    "            \"im_size\": IM_SIZE,\n",
    "            \"normalize_mean_std\": ([0.485,0.456,0.406], [0.229,0.224,0.225]),\n",
    "            \"arch\": \"CitrusNet(DSConv+Residual)\",\n",
    "            \"val_f1\": best_f1,\n",
    "        }, best_path)\n",
    "        print(f\"  ✓ Saved new best to {best_path} (val_f1={best_f1:.4f})\")\n",
    "    else:\n",
    "        epochs_no_improve += 1\n",
    "        if epochs_no_improve >= EARLY_STOP_PATIENCE:\n",
    "            print(f\"  ✳ Early stopping at epoch {epoch} (no improvement for {EARLY_STOP_PATIENCE} epochs).\")\n",
    "            break"
   ]
  },
  {
   "cell_type": "markdown",
   "metadata": {},
   "source": [
    "# 5) Curves (Loss, Accuracy, Macro‑F1)"
   ]
  },
  {
   "cell_type": "code",
   "execution_count": 10,
   "metadata": {
    "execution": {
     "iopub.execute_input": "2025-08-25T15:08:57.197020Z",
     "iopub.status.busy": "2025-08-25T15:08:57.196696Z",
     "iopub.status.idle": "2025-08-25T15:08:57.634538Z",
     "shell.execute_reply": "2025-08-25T15:08:57.630835Z",
     "shell.execute_reply.started": "2025-08-25T15:08:57.196994Z"
    },
    "trusted": true
   },
   "outputs": [
    {
     "data": {
      "image/png": "[encoded data removed]",
      "text/plain": [
       "<Figure size 600x400 with 1 Axes>"
      ]
     },
     "metadata": {},
     "output_type": "display_data"
    },
    {
     "data": {
      "image/png": "[encoded data removed]",
      "text/plain": [
       "<Figure size 600x400 with 1 Axes>"
      ]
     },
     "metadata": {},
     "output_type": "display_data"
    },
    {
     "data": {
      "image/png": "[encoded data removed]",
      "text/plain": [
       "<Figure size 600x400 with 1 Axes>"
      ]
     },
     "metadata": {},
     "output_type": "display_data"
    }
   ],
   "source": [
    "# ==========================================\n",
    "# 5) Curves: loss & accuracy & F1\n",
    "# ==========================================\n",
    "def plot_curves(history):\n",
    "    epochs = range(1, len(history[\"train_loss\"])+1)\n",
    "    plt.figure(figsize=(6,4)); \n",
    "    plt.plot(epochs, history[\"train_loss\"], label=\"train_loss\")\n",
    "    plt.plot(epochs, history[\"val_loss\"],   label=\"val_loss\")\n",
    "    plt.xlabel(\"Epoch\"); plt.ylabel(\"Loss\"); plt.title(\"Loss Curves\"); plt.legend(); plt.show()\n",
    "\n",
    "    plt.figure(figsize=(6,4)); \n",
    "    plt.plot(epochs, history[\"train_acc\"], label=\"train_acc\")\n",
    "    plt.plot(epochs, history[\"val_acc\"],   label=\"val_acc\")\n",
    "    plt.xlabel(\"Epoch\"); plt.ylabel(\"Accuracy\"); plt.title(\"Accuracy Curves\"); plt.legend(); plt.show()\n",
    "\n",
    "    plt.figure(figsize=(6,4)); \n",
    "    plt.plot(epochs, history[\"val_f1\"], label=\"val_macro_f1\")\n",
    "    plt.xlabel(\"Epoch\"); plt.ylabel(\"Macro F1\"); plt.title(\"Validation Macro-F1\"); plt.legend(); plt.show()\n",
    "\n",
    "plot_curves(history)\n"
   ]
  },
  {
   "cell_type": "markdown",
   "metadata": {},
   "source": [
    "# 6) Final Test Evaluation + Confusion Matrix"
   ]
  },
  {
   "cell_type": "code",
   "execution_count": null,
   "metadata": {
    "execution": {
     "iopub.execute_input": "2025-08-25T15:09:08.720337Z",
     "iopub.status.busy": "2025-08-25T15:09:08.720010Z",
     "iopub.status.idle": "2025-08-25T15:09:20.442310Z",
     "shell.execute_reply": "2025-08-25T15:09:20.435536Z",
     "shell.execute_reply.started": "2025-08-25T15:09:08.720310Z"
    },
    "trusted": true
   },
   "outputs": [
    {
     "name": "stderr",
     "output_type": "stream",
     "text": [
      "/tmp/ipykernel_10/1901612855.py:15: FutureWarning: `torch.cuda.amp.autocast(args...)` is deprecated. Please use `torch.amp.autocast('cuda', args...)` instead.\n",
      "  with torch.cuda.amp.autocast(enabled=(device.type==\"cuda\")):\n"
     ]
    },
    {
     "name": "stdout",
     "output_type": "stream",
     "text": [
      "TEST | loss 0.1245 | acc 0.9710 | macro-F1 0.9705\n",
      "\n",
      "Classification Report (Test):\n",
      "\n",
      "              precision    recall  f1-score   support\n",
      "\n",
      "     murcott       0.96      0.96      0.96        28\n",
      "      ponkan       0.92      1.00      0.96        33\n",
      "   tangerine       1.00      0.93      0.96        40\n",
      "      tankan       1.00      1.00      1.00        37\n",
      "\n",
      "    accuracy                           0.97       138\n",
      "   macro avg       0.97      0.97      0.97       138\n",
      "weighted avg       0.97      0.97      0.97       138\n",
      "\n"
     ]
    },
    {
     "data": {
      "image/png": "[encoded data removed]",
      "text/plain": [
       "<Figure size 500x400 with 2 Axes>"
      ]
     },
     "metadata": {},
     "output_type": "display_data"
    },
    {
     "name": "stdout",
     "output_type": "stream",
     "text": [
      "\n",
      "Best weights saved at: custom_cnn_best.pt\n"
     ]
    }
   ],
   "source": [
    "# ==========================================\n",
    "# 6) Final Test Evaluation (once) (By Deb)\n",
    "# ==========================================\n",
    "# Load best\n",
    "ckpt = torch.load(best_path, map_location=\"cpu\")\n",
    "model.load_state_dict(ckpt[\"model_state\"])\n",
    "model.to(device)\n",
    "test_loss, test_acc, test_f1, y_true, y_pred = evaluate(model, test_loader)\n",
    "print(f\"TEST | loss {test_loss:.4f} | acc {test_acc:.4f} | macro-F1 {test_f1:.4f}\")\n",
    "\n",
    "print(\"\\nClassification Report (Test):\\n\")\n",
    "print(classification_report(y_true, y_pred, target_names=CLASSES, zero_division=0))\n",
    "\n",
    "# Confusion Matrix\n",
    "cm = confusion_matrix(y_true, y_pred, labels=list(range(NUM_CLASSES)))\n",
    "plt.figure(figsize=(5,4))\n",
    "plt.imshow(cm, interpolation='nearest', cmap=plt.cm.Blues)\n",
    "plt.title(\"Confusion Matrix (Test)\"); plt.colorbar()\n",
    "tick_marks = np.arange(NUM_CLASSES)\n",
    "plt.xticks(tick_marks, CLASSES, rotation=45); plt.yticks(tick_marks, CLASSES)\n",
    "thresh = cm.max() / 2.\n",
    "for i, j in itertools.product(range(cm.shape[0]), range(cm.shape[1])):\n",
    "    plt.text(j, i, cm[i, j], horizontalalignment=\"center\",\n",
    "             color=\"white\" if cm[i, j] > thresh else \"black\", fontsize=9)\n",
    "plt.ylabel('True label'); plt.xlabel('Predicted label'); plt.tight_layout(); plt.show()\n",
    "\n",
    "print(f\"\\nBest weights saved at: {best_path}\")\n"
   ]
  }
 ],
 "metadata": {
  "kaggle": {
   "accelerator": "tpu1vmV38",
   "dataSources": [
    {
     "datasetId": 8135555,
     "sourceId": 12862001,
     "sourceType": "datasetVersion"
    }
   ],
   "dockerImageVersionId": 31089,
   "isGpuEnabled": false,
   "isInternetEnabled": true,
   "language": "python",
   "sourceType": "notebook"
  },
  "kernelspec": {
   "display_name": "Python 3",
   "language": "python",
   "name": "python3"
  },
  "language_info": {
   "codemirror_mode": {
    "name": "ipython",
    "version": 3
   },
   "file_extension": ".py",
   "mimetype": "text/x-python",
   "name": "python",
   "nbconvert_exporter": "python",
   "pygments_lexer": "ipython3",
   "version": "3.10.18"
  }
 },
 "nbformat": 4,
 "nbformat_minor": 4
}
