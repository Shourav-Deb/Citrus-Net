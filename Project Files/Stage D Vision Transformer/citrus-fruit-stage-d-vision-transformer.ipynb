{
 "cells": [
  {
   "cell_type": "markdown",
   "metadata": {},
   "source": [
    "# Imports & Config"
   ]
  },
  {
   "cell_type": "code",
   "execution_count": 1,
   "metadata": {
    "_cell_guid": "b1076dfc-b9ad-4769-8c92-a6c4dae69d19",
    "_uuid": "8f2839f25d086af736a60e9eeb907d3b93b6e0e5",
    "execution": {
     "iopub.execute_input": "2025-08-26T11:48:52.247352Z",
     "iopub.status.busy": "2025-08-26T11:48:52.246845Z",
     "iopub.status.idle": "2025-08-26T11:49:17.067159Z",
     "shell.execute_reply": "2025-08-26T11:49:17.061898Z",
     "shell.execute_reply.started": "2025-08-26T11:48:52.247318Z"
    },
    "trusted": true
   },
   "outputs": [
    {
     "name": "stdout",
     "output_type": "stream",
     "text": [
      "Device: cpu\n",
      "Train exists? True\n",
      "Val exists? True\n",
      "Test exists? True\n"
     ]
    }
   ],
   "source": [
    "# Notebook: ViT_CSE366.ipynb\n",
    "\n",
    "import os, json, random, time\n",
    "from pathlib import Path\n",
    "import numpy as np\n",
    "import pandas as pd\n",
    "import matplotlib.pyplot as plt\n",
    "\n",
    "import torch\n",
    "import torch.nn as nn\n",
    "from torch.utils.data import DataLoader\n",
    "from torchvision import datasets, transforms\n",
    "from sklearn.metrics import classification_report, confusion_matrix\n",
    "\n",
    "def set_seed(seed=42):\n",
    "    random.seed(seed); np.random.seed(seed); torch.manual_seed(seed); torch.cuda.manual_seed_all(seed)\n",
    "    torch.backends.cudnn.deterministic = True\n",
    "    torch.backends.cudnn.benchmark = False  # set True for a bit more speed (non-deterministic)\n",
    "\n",
    "set_seed(42)\n",
    "device = torch.device(\"cuda\" if torch.cuda.is_available() else \"cpu\")\n",
    "use_amp = (device.type == \"cuda\")\n",
    "print(\"Device:\", device)\n",
    "\n",
    "\n",
    "\n",
    "DATA_ROOT = Path(\"/kaggle/input/a-dataset-of-citrus-fruit-images/A Dataset of Citrus Fruit Images/CitrusFruit/Augmentation\")\n",
    "\n",
    "\n",
    "train_dir = DATA_ROOT / \"Train-A\"\n",
    "val_dir   = DATA_ROOT / \"Val-A\"\n",
    "test_dir  = DATA_ROOT / \"Test-A\"\n",
    "\n",
    "print(\"Train exists?\", train_dir.exists())\n",
    "print(\"Val exists?\", val_dir.exists())\n",
    "print(\"Test exists?\", test_dir.exists())\n",
    "\n",
    "\n",
    "IM_SIZE    = 224\n",
    "BATCH_SIZE = 32\n",
    "NUM_WORKERS= 2\n",
    "\n",
    "# Fast schedule (same spirit as Stage C quick run)\n",
    "PHASE1_EPOCHS = 1       # head-only warmup\n",
    "PHASE2_EPOCHS = 2       # fine-tune\n",
    "EARLY_STOP_PATIENCE = 2\n",
    "LR_HEAD   = 3e-3\n",
    "LR_FT     = 1e-4\n",
    "WEIGHT_DECAY = 1e-4\n",
    "\n",
    "VIT_BEST_PATH = \"vit_best.pt\"\n",
    "RESULTS_JSON  = \"vit_results.json\"\n"
   ]
  },
  {
   "cell_type": "markdown",
   "metadata": {},
   "source": [
    "# 1) Transforms, Datasets, DataLoaders"
   ]
  },
  {
   "cell_type": "code",
   "execution_count": 2,
   "metadata": {
    "execution": {
     "iopub.execute_input": "2025-08-26T11:49:17.068376Z",
     "iopub.status.busy": "2025-08-26T11:49:17.068000Z",
     "iopub.status.idle": "2025-08-26T11:49:28.757591Z",
     "shell.execute_reply": "2025-08-26T11:49:28.753061Z",
     "shell.execute_reply.started": "2025-08-26T11:49:17.068350Z"
    },
    "trusted": true
   },
   "outputs": [
    {
     "name": "stdout",
     "output_type": "stream",
     "text": [
      "Classes: ['murcott', 'ponkan', 'tangerine', 'tankan']\n"
     ]
    }
   ],
   "source": [
    "# ==========================================\n",
    "# 1) Transforms, Datasets, DataLoaders\n",
    "# ==========================================\n",
    "\n",
    "train_tfms = transforms.Compose([\n",
    "    transforms.Resize((IM_SIZE, IM_SIZE)),\n",
    "    transforms.RandomHorizontalFlip(p=0.5),\n",
    "    transforms.RandomRotation(degrees=15),\n",
    "    transforms.ColorJitter(brightness=0.2, contrast=0.2, saturation=0.15, hue=0.05),\n",
    "    transforms.ToTensor(),\n",
    "    transforms.Normalize([0.5,0.5,0.5], [0.5,0.5,0.5]),   # ViT-friendly norm (also fine to use ImageNet stats)\n",
    "])\n",
    "\n",
    "eval_tfms = transforms.Compose([\n",
    "    transforms.Resize((IM_SIZE, IM_SIZE)),\n",
    "    transforms.ToTensor(),\n",
    "    transforms.Normalize([0.5,0.5,0.5], [0.5,0.5,0.5]),\n",
    "])\n",
    "\n",
    "train_ds = datasets.ImageFolder(DATA_ROOT/\"Train-A\", transform=train_tfms)\n",
    "val_ds   = datasets.ImageFolder(DATA_ROOT/\"Val-A\",   transform=eval_tfms)\n",
    "test_ds  = datasets.ImageFolder(DATA_ROOT/\"Test-A\",  transform=eval_tfms)\n",
    "\n",
    "CLASSES = train_ds.classes\n",
    "NUM_CLASSES = len(CLASSES)\n",
    "print(\"Classes:\", CLASSES)\n",
    "\n",
    "train_loader = DataLoader(train_ds, batch_size=BATCH_SIZE, shuffle=True,  num_workers=NUM_WORKERS, pin_memory=True)\n",
    "val_loader   = DataLoader(val_ds,   batch_size=BATCH_SIZE, shuffle=False, num_workers=NUM_WORKERS, pin_memory=True)\n",
    "test_loader  = DataLoader(test_ds,  batch_size=BATCH_SIZE, shuffle=False, num_workers=NUM_WORKERS, pin_memory=True)\n"
   ]
  },
  {
   "cell_type": "markdown",
   "metadata": {},
   "source": [
    "# 2) Create ViT (torchvision ViT-B/16)"
   ]
  },
  {
   "cell_type": "code",
   "execution_count": 3,
   "metadata": {
    "execution": {
     "iopub.execute_input": "2025-08-26T11:49:28.759583Z",
     "iopub.status.busy": "2025-08-26T11:49:28.759299Z",
     "iopub.status.idle": "2025-08-26T11:49:32.138293Z",
     "shell.execute_reply": "2025-08-26T11:49:32.133158Z",
     "shell.execute_reply.started": "2025-08-26T11:49:28.759552Z"
    },
    "trusted": true
   },
   "outputs": [
    {
     "name": "stderr",
     "output_type": "stream",
     "text": [
      "Downloading: \"https://download.pytorch.org/models/vit_b_16-c867db91.pth\" to /root/.cache/torch/hub/checkpoints/vit_b_16-c867db91.pth\n",
      "100%|██████████| 330M/330M [00:01<00:00, 192MB/s]  \n"
     ]
    },
    {
     "name": "stdout",
     "output_type": "stream",
     "text": [
      "VisionTransformer ready.\n"
     ]
    }
   ],
   "source": [
    "# ==========================================\n",
    "# 2) Create ViT (torchvision ViT-B/16)\n",
    "# ==========================================\n",
    "\n",
    "import torchvision.models as tvm\n",
    "from torchvision.models.vision_transformer import ViT_B_16_Weights\n",
    "\n",
    "def create_vit_model(num_classes):\n",
    "    # Pretrained ViT-B/16\n",
    "    vit = tvm.vit_b_16(weights=ViT_B_16_Weights.IMAGENET1K_V1)\n",
    "    in_feats = vit.heads.head.in_features\n",
    "    vit.heads.head = nn.Linear(in_feats, num_classes)\n",
    "    return vit.to(device), list(vit.heads.head.parameters())\n",
    "\n",
    "vit, vit_head_params = create_vit_model(NUM_CLASSES)\n",
    "print(vit.__class__.__name__, \"ready.\")\n"
   ]
  },
  {
   "cell_type": "markdown",
   "metadata": {},
   "source": [
    "# 3) AMP helpers (PyTorch-1.x), train/eval"
   ]
  },
  {
   "cell_type": "code",
   "execution_count": 4,
   "metadata": {
    "execution": {
     "iopub.execute_input": "2025-08-26T11:49:32.139757Z",
     "iopub.status.busy": "2025-08-26T11:49:32.139518Z",
     "iopub.status.idle": "2025-08-26T11:49:32.157086Z",
     "shell.execute_reply": "2025-08-26T11:49:32.152451Z",
     "shell.execute_reply.started": "2025-08-26T11:49:32.139733Z"
    },
    "trusted": true
   },
   "outputs": [],
   "source": [
    "# ==========================================\n",
    "# 3) AMP helpers (PyTorch-1.x), train/eval\n",
    "# ==========================================\n",
    "\n",
    "criterion = nn.CrossEntropyLoss()\n",
    "\n",
    "@torch.no_grad()\n",
    "def evaluate(model, loader):\n",
    "    model.eval()\n",
    "    total, correct, total_loss = 0, 0, 0.0\n",
    "    all_t, all_p = [], []\n",
    "    for x, y in loader:\n",
    "        x = x.to(device, non_blocking=True); y = y.to(device, non_blocking=True)\n",
    "        with torch.cuda.amp.autocast(enabled=use_amp):\n",
    "            logits = model(x); loss = criterion(logits, y)\n",
    "        pred = logits.argmax(1)\n",
    "        total_loss += loss.item() * y.size(0)\n",
    "        correct    += (pred == y).sum().item()\n",
    "        total      += y.size(0)\n",
    "        all_t.extend(y.detach().cpu().tolist())\n",
    "        all_p.extend(pred.detach().cpu().tolist())\n",
    "    avg_loss = total_loss/total\n",
    "    acc = correct/total\n",
    "    report = classification_report(all_t, all_p, target_names=CLASSES, output_dict=True, zero_division=0)\n",
    "    f1_macro = report[\"macro avg\"][\"f1-score\"]\n",
    "    return avg_loss, acc, f1_macro, np.array(all_t), np.array(all_p)\n",
    "\n",
    "def set_trainable(module, flag=True):\n",
    "    for p in module.parameters():\n",
    "        p.requires_grad = flag\n",
    "\n",
    "def train_one_epoch(model, loader, optimizer, scaler):\n",
    "    model.train()\n",
    "    total, correct, total_loss = 0, 0, 0.0\n",
    "    for x, y in loader:\n",
    "        x = x.to(device, non_blocking=True); y = y.to(device, non_blocking=True)\n",
    "        optimizer.zero_grad(set_to_none=True)\n",
    "        with torch.cuda.amp.autocast(enabled=use_amp):\n",
    "            logits = model(x); loss = criterion(logits, y)\n",
    "        scaler.scale(loss).backward()\n",
    "        scaler.step(optimizer)\n",
    "        scaler.update()\n",
    "        total_loss += loss.item() * y.size(0)\n",
    "        correct    += (logits.argmax(1) == y).sum().item()\n",
    "        total      += y.size(0)\n",
    "    return total_loss/total, correct/total\n"
   ]
  },
  {
   "cell_type": "markdown",
   "metadata": {},
   "source": [
    "# 4) Train ViT (Phase-1 head-only, Phase-2 fine-tune)"
   ]
  },
  {
   "cell_type": "code",
   "execution_count": 5,
   "metadata": {
    "execution": {
     "iopub.execute_input": "2025-08-26T11:49:32.159583Z",
     "iopub.status.busy": "2025-08-26T11:49:32.159322Z",
     "iopub.status.idle": "2025-08-26T12:19:59.542027Z",
     "shell.execute_reply": "2025-08-26T12:19:59.535704Z",
     "shell.execute_reply.started": "2025-08-26T11:49:32.159558Z"
    },
    "trusted": true
   },
   "outputs": [
    {
     "name": "stderr",
     "output_type": "stream",
     "text": [
      "/tmp/ipykernel_10/1812121527.py:8: FutureWarning: `torch.cuda.amp.GradScaler(args...)` is deprecated. Please use `torch.amp.GradScaler('cuda', args...)` instead.\n",
      "  scaler = torch.cuda.amp.GradScaler(enabled=use_amp)\n",
      "/tmp/ipykernel_10/4044928794.py:34: FutureWarning: `torch.cuda.amp.autocast(args...)` is deprecated. Please use `torch.amp.autocast('cuda', args...)` instead.\n",
      "  with torch.cuda.amp.autocast(enabled=use_amp):\n",
      "/tmp/ipykernel_10/4044928794.py:10: FutureWarning: `torch.cuda.amp.autocast(args...)` is deprecated. Please use `torch.amp.autocast('cuda', args...)` instead.\n",
      "  with torch.cuda.amp.autocast(enabled=use_amp):\n"
     ]
    },
    {
     "name": "stdout",
     "output_type": "stream",
     "text": [
      "[ViT | Phase1 | Ep 1/1] train_loss 0.2914 acc 0.9006 | val_loss 0.1940 acc 0.9545 f1 0.9529\n"
     ]
    },
    {
     "name": "stderr",
     "output_type": "stream",
     "text": [
      "/tmp/ipykernel_10/1812121527.py:30: FutureWarning: `torch.cuda.amp.GradScaler(args...)` is deprecated. Please use `torch.amp.GradScaler('cuda', args...)` instead.\n",
      "  scaler = torch.cuda.amp.GradScaler(enabled=use_amp)\n",
      "/tmp/ipykernel_10/4044928794.py:34: FutureWarning: `torch.cuda.amp.autocast(args...)` is deprecated. Please use `torch.amp.autocast('cuda', args...)` instead.\n",
      "  with torch.cuda.amp.autocast(enabled=use_amp):\n",
      "/tmp/ipykernel_10/4044928794.py:10: FutureWarning: `torch.cuda.amp.autocast(args...)` is deprecated. Please use `torch.amp.autocast('cuda', args...)` instead.\n",
      "  with torch.cuda.amp.autocast(enabled=use_amp):\n"
     ]
    },
    {
     "name": "stdout",
     "output_type": "stream",
     "text": [
      "[ViT | Phase2 | Ep 1/2] train_loss 0.1259 acc 0.9586 | val_loss 0.1308 acc 0.9473 f1 0.9482\n"
     ]
    },
    {
     "name": "stderr",
     "output_type": "stream",
     "text": [
      "/tmp/ipykernel_10/4044928794.py:34: FutureWarning: `torch.cuda.amp.autocast(args...)` is deprecated. Please use `torch.amp.autocast('cuda', args...)` instead.\n",
      "  with torch.cuda.amp.autocast(enabled=use_amp):\n",
      "/tmp/ipykernel_10/4044928794.py:10: FutureWarning: `torch.cuda.amp.autocast(args...)` is deprecated. Please use `torch.amp.autocast('cuda', args...)` instead.\n",
      "  with torch.cuda.amp.autocast(enabled=use_amp):\n"
     ]
    },
    {
     "name": "stdout",
     "output_type": "stream",
     "text": [
      "[ViT | Phase2 | Ep 2/2] train_loss 0.0246 acc 0.9914 | val_loss 0.0962 acc 0.9697 f1 0.9692\n"
     ]
    }
   ],
   "source": [
    "# =======================================================\n",
    "# 4) Train ViT (Phase-1 head-only, Phase-2 fine-tune)¶\n",
    "# =======================================================\n",
    "\n",
    "# Phase 1: freeze backbone, train head\n",
    "set_trainable(vit, False)\n",
    "for p in vit_head_params: p.requires_grad = True\n",
    "\n",
    "optimizer = torch.optim.AdamW(filter(lambda p: p.requires_grad, vit.parameters()),\n",
    "                              lr=LR_HEAD, weight_decay=WEIGHT_DECAY)\n",
    "scheduler = torch.optim.lr_scheduler.ReduceLROnPlateau(optimizer, mode=\"max\", factor=0.5, patience=1)\n",
    "scaler = torch.cuda.amp.GradScaler(enabled=use_amp)\n",
    "\n",
    "best_f1 = -1.0\n",
    "no_improve = 0\n",
    "\n",
    "for ep in range(1, PHASE1_EPOCHS+1):\n",
    "    tr_loss, tr_acc = train_one_epoch(vit, train_loader, optimizer, scaler)\n",
    "    val_loss, val_acc, val_f1, _, _ = evaluate(vit, val_loader)\n",
    "    scheduler.step(val_f1)\n",
    "    print(f\"[ViT | Phase1 | Ep {ep}/{PHASE1_EPOCHS}] train_loss {tr_loss:.4f} acc {tr_acc:.4f} | val_loss {val_loss:.4f} acc {val_acc:.4f} f1 {val_f1:.4f}\")\n",
    "    if val_f1 > best_f1 + 1e-4:\n",
    "        best_f1 = val_f1; no_improve = 0\n",
    "        torch.save({\"model_state\": vit.state_dict(), \"arch\": \"vit_b_16\", \"val_f1\": best_f1}, VIT_BEST_PATH)\n",
    "    else:\n",
    "        no_improve += 1\n",
    "        if no_improve >= EARLY_STOP_PATIENCE:\n",
    "            print(\"  Early stop (Phase1).\"); break\n",
    "\n",
    "# Phase 2: unfreeze & fine-tune\n",
    "set_trainable(vit, True)\n",
    "optimizer = torch.optim.AdamW(vit.parameters(), lr=LR_FT, weight_decay=WEIGHT_DECAY)\n",
    "scheduler = torch.optim.lr_scheduler.ReduceLROnPlateau(optimizer, mode=\"max\", factor=0.5, patience=1)\n",
    "scaler = torch.cuda.amp.GradScaler(enabled=use_amp)\n",
    "no_improve = 0\n",
    "\n",
    "for ep in range(1, PHASE2_EPOCHS+1):\n",
    "    tr_loss, tr_acc = train_one_epoch(vit, train_loader, optimizer, scaler)\n",
    "    val_loss, val_acc, val_f1, _, _ = evaluate(vit, val_loader)\n",
    "    scheduler.step(val_f1)\n",
    "    print(f\"[ViT | Phase2 | Ep {ep}/{PHASE2_EPOCHS}] train_loss {tr_loss:.4f} acc {tr_acc:.4f} | val_loss {val_loss:.4f} acc {val_acc:.4f} f1 {val_f1:.4f}\")\n",
    "    if val_f1 > best_f1 + 1e-4:\n",
    "        best_f1 = val_f1; no_improve = 0\n",
    "        torch.save({\"model_state\": vit.state_dict(), \"arch\": \"vit_b_16\", \"val_f1\": best_f1}, VIT_BEST_PATH)\n",
    "    else:\n",
    "        no_improve += 1\n",
    "        if no_improve >= EARLY_STOP_PATIENCE:\n",
    "            print(\"  Early stop (Phase2).\"); break\n"
   ]
  },
  {
   "cell_type": "markdown",
   "metadata": {},
   "source": [
    "# 5) Final Test + Confusion Matrix + Save metrics"
   ]
  },
  {
   "cell_type": "code",
   "execution_count": null,
   "metadata": {
    "execution": {
     "iopub.execute_input": "2025-08-26T12:19:59.544112Z",
     "iopub.status.busy": "2025-08-26T12:19:59.543865Z",
     "iopub.status.idle": "2025-08-26T12:20:12.798082Z",
     "shell.execute_reply": "2025-08-26T12:20:12.792661Z",
     "shell.execute_reply.started": "2025-08-26T12:19:59.544074Z"
    },
    "trusted": true
   },
   "outputs": [
    {
     "name": "stderr",
     "output_type": "stream",
     "text": [
      "/tmp/ipykernel_10/4044928794.py:10: FutureWarning: `torch.cuda.amp.autocast(args...)` is deprecated. Please use `torch.amp.autocast('cuda', args...)` instead.\n",
      "  with torch.cuda.amp.autocast(enabled=use_amp):\n"
     ]
    },
    {
     "name": "stdout",
     "output_type": "stream",
     "text": [
      "TEST (ViT) | loss 0.1333 | acc 0.9638 | macro-F1 0.9626\n",
      "\n",
      "Classification Report (Test):\n",
      "\n",
      "              precision    recall  f1-score   support\n",
      "\n",
      "     murcott       0.96      0.93      0.95        28\n",
      "      ponkan       0.92      1.00      0.96        33\n",
      "   tangerine       0.97      0.95      0.96        40\n",
      "      tankan       1.00      0.97      0.99        37\n",
      "\n",
      "    accuracy                           0.96       138\n",
      "   macro avg       0.96      0.96      0.96       138\n",
      "weighted avg       0.97      0.96      0.96       138\n",
      "\n"
     ]
    },
    {
     "data": {
      "image/png": "[encoded data removed]",
      "text/plain": [
       "<Figure size 500x400 with 2 Axes>"
      ]
     },
     "metadata": {},
     "output_type": "display_data"
    },
    {
     "name": "stdout",
     "output_type": "stream",
     "text": [
      "Saved: vit_results.json and vit_best.pt\n"
     ]
    }
   ],
   "source": [
    "# ==================================================\n",
    "# 5) Final Test + Confusion Matrix + Save metrics  (By Deb)\n",
    "# ==================================================\n",
    "\n",
    "ckpt = torch.load(VIT_BEST_PATH, map_location=\"cpu\")\n",
    "vit.load_state_dict(ckpt[\"model_state\"]); vit.to(device)\n",
    "\n",
    "test_loss, test_acc, test_f1, y_true, y_pred = evaluate(vit, test_loader)\n",
    "print(f\"TEST (ViT) | loss {test_loss:.4f} | acc {test_acc:.4f} | macro-F1 {test_f1:.4f}\")\n",
    "\n",
    "print(\"\\nClassification Report (Test):\\n\")\n",
    "print(classification_report(y_true, y_pred, target_names=CLASSES, zero_division=0))\n",
    "\n",
    "# Confusion matrix\n",
    "cm = confusion_matrix(y_true, y_pred, labels=list(range(NUM_CLASSES)))\n",
    "plt.figure(figsize=(5,4))\n",
    "plt.imshow(cm, interpolation='nearest', cmap=plt.cm.Blues)\n",
    "plt.title(\"Confusion Matrix — ViT-B/16\"); plt.colorbar()\n",
    "ticks = np.arange(NUM_CLASSES)\n",
    "plt.xticks(ticks, CLASSES, rotation=45); plt.yticks(ticks, CLASSES)\n",
    "th = cm.max()/2\n",
    "for i in range(cm.shape[0]):\n",
    "    for j in range(cm.shape[1]):\n",
    "        plt.text(j, i, cm[i, j], ha=\"center\",\n",
    "                 color=\"white\" if cm[i,j] > th else \"black\", fontsize=9)\n",
    "plt.ylabel(\"True\"); plt.xlabel(\"Pred\"); plt.tight_layout(); plt.show()\n",
    "\n",
    "# Save a small results JSON\n",
    "res = {\n",
    "    \"val_best_f1\": ckpt.get(\"val_f1\", None),\n",
    "    \"test_loss\": float(test_loss),\n",
    "    \"test_acc\": float(test_acc),\n",
    "    \"test_macro_f1\": float(test_f1),\n",
    "    \"weights\": VIT_BEST_PATH\n",
    "}\n",
    "with open(RESULTS_JSON, \"w\") as f:\n",
    "    json.dump(res, f, indent=2)\n",
    "print(\"Saved:\", RESULTS_JSON, \"and\", VIT_BEST_PATH)\n"
   ]
  },
  {
   "cell_type": "markdown",
   "metadata": {},
   "source": [
    "# 6) Append ViT row into Stage C table"
   ]
  },
  {
   "cell_type": "code",
   "execution_count": 8,
   "metadata": {
    "execution": {
     "iopub.execute_input": "2025-08-26T12:29:21.731494Z",
     "iopub.status.busy": "2025-08-26T12:29:21.731132Z",
     "iopub.status.idle": "2025-08-26T12:29:21.780714Z",
     "shell.execute_reply": "2025-08-26T12:29:21.775720Z",
     "shell.execute_reply.started": "2025-08-26T12:29:21.731463Z"
    },
    "trusted": true
   },
   "outputs": [
    {
     "name": "stderr",
     "output_type": "stream",
     "text": [
      "/tmp/ipykernel_10/2891585276.py:17: FutureWarning: The behavior of DataFrame concatenation with empty or all-NA entries is deprecated. In a future version, this will no longer exclude empty or all-NA columns when determining the result dtypes. To retain the old behavior, exclude the relevant entries before the concat operation.\n",
      "  df_all = pd.concat([df_prev, pd.DataFrame([vit_row])], ignore_index=True).sort_values(\"test_macro_f1\", ascending=False)\n"
     ]
    },
    {
     "data": {
      "text/html": [
       "<div>\n",
       "<style scoped>\n",
       "    .dataframe tbody tr th:only-of-type {\n",
       "        vertical-align: middle;\n",
       "    }\n",
       "\n",
       "    .dataframe tbody tr th {\n",
       "        vertical-align: top;\n",
       "    }\n",
       "\n",
       "    .dataframe thead th {\n",
       "        text-align: right;\n",
       "    }\n",
       "</style>\n",
       "<table border=\"1\" class=\"dataframe\">\n",
       "  <thead>\n",
       "    <tr style=\"text-align: right;\">\n",
       "      <th></th>\n",
       "      <th>backbone</th>\n",
       "      <th>val_best_f1</th>\n",
       "      <th>test_loss</th>\n",
       "      <th>test_acc</th>\n",
       "      <th>test_macro_f1</th>\n",
       "      <th>precision_macro</th>\n",
       "      <th>recall_macro</th>\n",
       "      <th>weights</th>\n",
       "    </tr>\n",
       "  </thead>\n",
       "  <tbody>\n",
       "    <tr>\n",
       "      <th>0</th>\n",
       "      <td>efficientnet_b0</td>\n",
       "      <td>0.963977</td>\n",
       "      <td>0.098645</td>\n",
       "      <td>0.971014</td>\n",
       "      <td>0.970384</td>\n",
       "      <td>0.969955</td>\n",
       "      <td>0.970996</td>\n",
       "      <td>tl_efficientnet_b0_best.pt</td>\n",
       "    </tr>\n",
       "    <tr>\n",
       "      <th>1</th>\n",
       "      <td>densenet121</td>\n",
       "      <td>0.970583</td>\n",
       "      <td>0.132183</td>\n",
       "      <td>0.971014</td>\n",
       "      <td>0.970378</td>\n",
       "      <td>0.972756</td>\n",
       "      <td>0.969643</td>\n",
       "      <td>tl_densenet121_best.pt</td>\n",
       "    </tr>\n",
       "    <tr>\n",
       "      <th>2</th>\n",
       "      <td>convnext_tiny</td>\n",
       "      <td>0.975736</td>\n",
       "      <td>0.066403</td>\n",
       "      <td>0.971014</td>\n",
       "      <td>0.970378</td>\n",
       "      <td>0.972756</td>\n",
       "      <td>0.969643</td>\n",
       "      <td>tl_convnext_tiny_best.pt</td>\n",
       "    </tr>\n",
       "    <tr>\n",
       "      <th>3</th>\n",
       "      <td>resnet34</td>\n",
       "      <td>0.958248</td>\n",
       "      <td>0.126828</td>\n",
       "      <td>0.963768</td>\n",
       "      <td>0.964518</td>\n",
       "      <td>0.965643</td>\n",
       "      <td>0.964746</td>\n",
       "      <td>tl_resnet34_best.pt</td>\n",
       "    </tr>\n",
       "    <tr>\n",
       "      <th>4</th>\n",
       "      <td>custom_cnn</td>\n",
       "      <td>0.922605</td>\n",
       "      <td>0.130963</td>\n",
       "      <td>0.963768</td>\n",
       "      <td>0.962815</td>\n",
       "      <td>NaN</td>\n",
       "      <td>NaN</td>\n",
       "      <td>custom_cnn_best.pt</td>\n",
       "    </tr>\n",
       "    <tr>\n",
       "      <th>5</th>\n",
       "      <td>vit_b_16</td>\n",
       "      <td>0.969184</td>\n",
       "      <td>0.133280</td>\n",
       "      <td>0.963768</td>\n",
       "      <td>0.962576</td>\n",
       "      <td>NaN</td>\n",
       "      <td>NaN</td>\n",
       "      <td>vit_best.pt</td>\n",
       "    </tr>\n",
       "  </tbody>\n",
       "</table>\n",
       "</div>"
      ],
      "text/plain": [
       "          backbone  val_best_f1  test_loss  test_acc  test_macro_f1  \\\n",
       "0  efficientnet_b0     0.963977   0.098645  0.971014       0.970384   \n",
       "1      densenet121     0.970583   0.132183  0.971014       0.970378   \n",
       "2    convnext_tiny     0.975736   0.066403  0.971014       0.970378   \n",
       "3         resnet34     0.958248   0.126828  0.963768       0.964518   \n",
       "4       custom_cnn     0.922605   0.130963  0.963768       0.962815   \n",
       "5         vit_b_16     0.969184   0.133280  0.963768       0.962576   \n",
       "\n",
       "   precision_macro  recall_macro                     weights  \n",
       "0         0.969955      0.970996  tl_efficientnet_b0_best.pt  \n",
       "1         0.972756      0.969643      tl_densenet121_best.pt  \n",
       "2         0.972756      0.969643    tl_convnext_tiny_best.pt  \n",
       "3         0.965643      0.964746         tl_resnet34_best.pt  \n",
       "4              NaN           NaN          custom_cnn_best.pt  \n",
       "5              NaN           NaN                 vit_best.pt  "
      ]
     },
     "metadata": {},
     "output_type": "display_data"
    },
    {
     "name": "stdout",
     "output_type": "stream",
     "text": [
      "Saved: combined_results_with_custom_and_vit.csv\n"
     ]
    }
   ],
   "source": [
    "# ==========================================\n",
    "# 6) Append ViT row into Stage C table\n",
    "# ==========================================\n",
    "STAGEC_CSV = \"/kaggle/input/combined-results-with-custom/combined_results_with_custom.csv\"\n",
    "df_prev = pd.read_csv(STAGEC_CSV)\n",
    "\n",
    "vit_row = {\n",
    "    \"backbone\": \"vit_b_16\",\n",
    "    \"val_best_f1\": res[\"val_best_f1\"],\n",
    "    \"test_loss\": res[\"test_loss\"],\n",
    "    \"test_acc\":  res[\"test_acc\"],\n",
    "    \"test_macro_f1\": res[\"test_macro_f1\"],\n",
    "    \"precision_macro\": None,\n",
    "    \"recall_macro\": None,\n",
    "    \"weights\": VIT_BEST_PATH\n",
    "}\n",
    "df_all = pd.concat([df_prev, pd.DataFrame([vit_row])], ignore_index=True).sort_values(\"test_macro_f1\", ascending=False)\n",
    "display(df_all)\n",
    "df_all.to_csv(\"combined_results_with_custom_and_vit.csv\", index=False)\n",
    "print(\"Saved: combined_results_with_custom_and_vit.csv\")\n"
   ]
  }
 ],
 "metadata": {
  "kaggle": {
   "accelerator": "tpu1vmV38",
   "dataSources": [
    {
     "datasetId": 8135555,
     "sourceId": 12862001,
     "sourceType": "datasetVersion"
    },
    {
     "datasetId": 8144032,
     "sourceId": 12874092,
     "sourceType": "datasetVersion"
    }
   ],
   "dockerImageVersionId": 31089,
   "isGpuEnabled": false,
   "isInternetEnabled": true,
   "language": "python",
   "sourceType": "notebook"
  },
  "kernelspec": {
   "display_name": "Python 3",
   "language": "python",
   "name": "python3"
  },
  "language_info": {
   "codemirror_mode": {
    "name": "ipython",
    "version": 3
   },
   "file_extension": ".py",
   "mimetype": "text/x-python",
   "name": "python",
   "nbconvert_exporter": "python",
   "pygments_lexer": "ipython3",
   "version": "3.10.18"
  }
 },
 "nbformat": 4,
 "nbformat_minor": 4
}
