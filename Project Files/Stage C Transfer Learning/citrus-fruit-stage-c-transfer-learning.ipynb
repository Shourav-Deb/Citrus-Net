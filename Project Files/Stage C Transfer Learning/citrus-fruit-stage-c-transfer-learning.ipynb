{
 "cells": [
  {
   "cell_type": "markdown",
   "metadata": {},
   "source": [
    "## Imports, Seed & Config"
   ]
  },
  {
   "cell_type": "code",
   "execution_count": 2,
   "metadata": {
    "_cell_guid": "b1076dfc-b9ad-4769-8c92-a6c4dae69d19",
    "_uuid": "8f2839f25d086af736a60e9eeb907d3b93b6e0e5",
    "execution": {
     "iopub.execute_input": "2025-08-26T02:00:23.100530Z",
     "iopub.status.busy": "2025-08-26T02:00:23.099610Z",
     "iopub.status.idle": "2025-08-26T02:00:23.115748Z",
     "shell.execute_reply": "2025-08-26T02:00:23.114983Z",
     "shell.execute_reply.started": "2025-08-26T02:00:23.100505Z"
    },
    "trusted": true
   },
   "outputs": [
    {
     "name": "stdout",
     "output_type": "stream",
     "text": [
      "CUDA available?         True\n",
      "CUDA device count:      1\n",
      "Selected device str:    cuda\n",
      "Device 0 name:          Tesla P100-PCIE-16GB\n",
      "CUDA available? True\n",
      "Device: Tesla P100-PCIE-16GB\n",
      "Device: cuda\n",
      "Train exists? True\n",
      "Val exists? True\n",
      "Test exists? True\n"
     ]
    }
   ],
   "source": [
    "# CSE366 — Stage 3 (Transfer Learning): 4 Backbones on CitrusFruit\n",
    "\n",
    "\n",
    "import os, json, random, time\n",
    "from pathlib import Path\n",
    "import numpy as np\n",
    "import pandas as pd\n",
    "import matplotlib.pyplot as plt\n",
    "\n",
    "import torch\n",
    "import torch.nn as nn\n",
    "import torch.nn.functional as F\n",
    "from torch.utils.data import DataLoader\n",
    "from torchvision import datasets, transforms\n",
    "from sklearn.metrics import classification_report, confusion_matrix\n",
    "\n",
    "\n",
    "print(\"CUDA available?        \", torch.cuda.is_available())\n",
    "print(\"CUDA device count:     \", torch.cuda.device_count())\n",
    "print(\"Selected device str:   \", \"cuda\" if torch.cuda.is_available() else \"cpu\")\n",
    "if torch.cuda.is_available():\n",
    "    print(\"Device 0 name:         \", torch.cuda.get_device_name(0))\n",
    "\n",
    "\n",
    "print(\"CUDA available?\", torch.cuda.is_available())\n",
    "print(\"Device:\", torch.cuda.get_device_name(0) if torch.cuda.is_available() else \"CPU only\")\n",
    "\n",
    "def set_seed(seed=42):\n",
    "    random.seed(seed); np.random.seed(seed); torch.manual_seed(seed); torch.cuda.manual_seed_all(seed)\n",
    "    torch.backends.cudnn.deterministic = True\n",
    "    torch.backends.cudnn.benchmark = False\n",
    "\n",
    "set_seed(42)\n",
    "device = torch.device(\"cuda\" if torch.cuda.is_available() else \"cpu\")\n",
    "print(\"Device:\", device)\n",
    "use_amp = (device.type == \"cuda\")\n",
    "\n",
    "from pathlib import Path\n",
    "\n",
    "\n",
    "DATA_ROOT = Path(\"/kaggle/input/a-dataset-of-citrus-fruit-images/A Dataset of Citrus Fruit Images/CitrusFruit/Augmentation\")\n",
    "\n",
    "train_dir = DATA_ROOT / \"Train-A\"\n",
    "val_dir   = DATA_ROOT / \"Val-A\"\n",
    "test_dir  = DATA_ROOT / \"Test-A\"\n",
    "\n",
    "print(\"Train exists?\", train_dir.exists())\n",
    "print(\"Val exists?\", val_dir.exists())\n",
    "print(\"Test exists?\", test_dir.exists())\n",
    "\n",
    "\n",
    "IM_SIZE    = 160                             # was 224\n",
    "BATCH_SIZE = 32\n",
    "NUM_WORKERS= 2\n",
    "\n",
    "# Training schedule\n",
    "PHASE1_EPOCHS = 1   # head-only warmup       # was 3\n",
    "PHASE2_EPOCHS = 2   # fine-tune              # was 7\n",
    "EARLY_STOP_PATIENCE = 2                     # was 3\n",
    "\n",
    "LR_HEAD   = 3e-3\n",
    "LR_FT     = 1e-4\n",
    "WEIGHT_DECAY = 1e-4\n",
    "\n",
    "RESULTS_CSV = \"transfer_learning_results.csv\""
   ]
  },
  {
   "cell_type": "markdown",
   "metadata": {},
   "source": [
    "# 1) Transforms, Datasets, DataLoaders"
   ]
  },
  {
   "cell_type": "code",
   "execution_count": 3,
   "metadata": {
    "execution": {
     "iopub.execute_input": "2025-08-26T02:00:23.117347Z",
     "iopub.status.busy": "2025-08-26T02:00:23.116761Z",
     "iopub.status.idle": "2025-08-26T02:00:25.810795Z",
     "shell.execute_reply": "2025-08-26T02:00:25.810088Z",
     "shell.execute_reply.started": "2025-08-26T02:00:23.117328Z"
    },
    "trusted": true
   },
   "outputs": [
    {
     "name": "stdout",
     "output_type": "stream",
     "text": [
      "Classes: ['murcott', 'ponkan', 'tangerine', 'tankan']\n"
     ]
    }
   ],
   "source": [
    "# ==========================================\n",
    "# 1) Transforms, Datasets, Data Loaders\n",
    "# ==========================================\n",
    "train_tfms = transforms.Compose([\n",
    "    transforms.Resize((IM_SIZE, IM_SIZE)),\n",
    "    transforms.RandomHorizontalFlip(p=0.5),\n",
    "    transforms.RandomRotation(degrees=15),\n",
    "    transforms.ColorJitter(brightness=0.2, contrast=0.2, saturation=0.15, hue=0.05),\n",
    "    transforms.ToTensor(),\n",
    "    transforms.Normalize(mean=[0.485,0.456,0.406], std=[0.229,0.224,0.225]),\n",
    "])\n",
    "\n",
    "eval_tfms = transforms.Compose([\n",
    "    transforms.Resize((IM_SIZE, IM_SIZE)),\n",
    "    transforms.ToTensor(),\n",
    "    transforms.Normalize(mean=[0.485,0.456,0.406], std=[0.229,0.224,0.225]),\n",
    "])\n",
    "\n",
    "train_ds = datasets.ImageFolder(DATA_ROOT/\"Train-A\", transform=train_tfms)\n",
    "val_ds   = datasets.ImageFolder(DATA_ROOT/\"Val-A\",   transform=eval_tfms)\n",
    "test_ds  = datasets.ImageFolder(DATA_ROOT/\"Test-A\",  transform=eval_tfms)\n",
    "\n",
    "CLASSES = train_ds.classes\n",
    "NUM_CLASSES = len(CLASSES)\n",
    "print(\"Classes:\", CLASSES)\n",
    "\n",
    "train_loader = DataLoader(train_ds, batch_size=BATCH_SIZE, shuffle=True,  num_workers=NUM_WORKERS, pin_memory=True)\n",
    "val_loader   = DataLoader(val_ds,   batch_size=BATCH_SIZE, shuffle=False, num_workers=NUM_WORKERS, pin_memory=True)\n",
    "test_loader  = DataLoader(test_ds,  batch_size=BATCH_SIZE, shuffle=False, num_workers=NUM_WORKERS, pin_memory=True)\n",
    "\n"
   ]
  },
  {
   "cell_type": "markdown",
   "metadata": {},
   "source": [
    "# 2) AMP, Eval Helpers, Metrics"
   ]
  },
  {
   "cell_type": "code",
   "execution_count": 4,
   "metadata": {
    "execution": {
     "iopub.execute_input": "2025-08-26T02:00:25.811848Z",
     "iopub.status.busy": "2025-08-26T02:00:25.811552Z",
     "iopub.status.idle": "2025-08-26T02:00:25.818668Z",
     "shell.execute_reply": "2025-08-26T02:00:25.817901Z",
     "shell.execute_reply.started": "2025-08-26T02:00:25.811821Z"
    },
    "trusted": true
   },
   "outputs": [],
   "source": [
    "# ============================================\n",
    "# 2) AMP, Eval Helpers, Metric  (PyTorch-1.x)\n",
    "# ============================================\n",
    "\n",
    "from torch import amp\n",
    "\n",
    "use_amp = (device.type == \"cuda\")\n",
    "criterion = nn.CrossEntropyLoss()\n",
    "\n",
    "@torch.no_grad()\n",
    "def evaluate(model, loader):\n",
    "    model.eval()\n",
    "    all_t, all_p = [], []\n",
    "    total, correct, total_loss = 0, 0, 0.0\n",
    "    for x, y in loader:\n",
    "        x, y = x.to(device), y.to(device)\n",
    "        with torch.cuda.amp.autocast(enabled=use_amp):\n",
    "            logits = model(x)\n",
    "            loss = criterion(logits, y)\n",
    "        pred = logits.argmax(1)\n",
    "        total_loss += loss.item() * y.size(0)\n",
    "        correct    += (pred == y).sum().item()\n",
    "        total      += y.size(0)\n",
    "        all_t.extend(y.detach().cpu().tolist())\n",
    "        all_p.extend(pred.detach().cpu().tolist())\n",
    "    avg_loss = total_loss/total\n",
    "    acc = correct/total\n",
    "    report = classification_report(all_t, all_p, target_names=CLASSES, output_dict=True, zero_division=0)\n",
    "    f1_macro = report[\"macro avg\"][\"f1-score\"]\n",
    "    return avg_loss, acc, f1_macro, np.array(all_t), np.array(all_p)\n"
   ]
  },
  {
   "cell_type": "markdown",
   "metadata": {},
   "source": [
    "# 3) Model Factory (choose 4 different backbones)"
   ]
  },
  {
   "cell_type": "code",
   "execution_count": 5,
   "metadata": {
    "execution": {
     "iopub.execute_input": "2025-08-26T02:00:25.820199Z",
     "iopub.status.busy": "2025-08-26T02:00:25.819995Z",
     "iopub.status.idle": "2025-08-26T02:00:25.839406Z",
     "shell.execute_reply": "2025-08-26T02:00:25.838817Z",
     "shell.execute_reply.started": "2025-08-26T02:00:25.820183Z"
    },
    "trusted": true
   },
   "outputs": [
    {
     "name": "stdout",
     "output_type": "stream",
     "text": [
      "Planned backbones: ['resnet34', 'densenet121', 'efficientnet_b0', 'convnext_tiny']\n"
     ]
    }
   ],
   "source": [
    "# =================================================\n",
    "# 3) Model Factory (choose 4 different backbones)\n",
    "# =================================================\n",
    "\n",
    "import torchvision.models as tvm\n",
    "\n",
    "def make_model(backbone_name: str, num_classes: int):\n",
    "    name = backbone_name.lower()\n",
    "    if name == \"resnet34\":\n",
    "        m = tvm.resnet34(weights=tvm.ResNet34_Weights.DEFAULT)\n",
    "        in_feats = m.fc.in_features\n",
    "        m.fc = nn.Linear(in_feats, num_classes)\n",
    "        classifier_params = list(m.fc.parameters())\n",
    "    elif name == \"densenet121\":\n",
    "        m = tvm.densenet121(weights=tvm.DenseNet121_Weights.DEFAULT)\n",
    "        in_feats = m.classifier.in_features\n",
    "        m.classifier = nn.Linear(in_feats, num_classes)\n",
    "        classifier_params = list(m.classifier.parameters())\n",
    "    elif name == \"efficientnet_b0\":\n",
    "        m = tvm.efficientnet_b0(weights=tvm.EfficientNet_B0_Weights.DEFAULT)\n",
    "        in_feats = m.classifier[1].in_features\n",
    "        m.classifier[1] = nn.Linear(in_feats, num_classes)\n",
    "        classifier_params = list(m.classifier[1].parameters())\n",
    "    elif name == \"convnext_tiny\":\n",
    "        m = tvm.convnext_tiny(weights=tvm.ConvNeXt_Tiny_Weights.DEFAULT)\n",
    "        in_feats = m.classifier[2].in_features\n",
    "        m.classifier[2] = nn.Linear(in_feats, num_classes)\n",
    "        classifier_params = list(m.classifier[2].parameters())\n",
    "    else:\n",
    "        raise ValueError(f\"Unknown backbone: {backbone_name}\")\n",
    "\n",
    "    return m.to(device), classifier_params\n",
    "\n",
    "BACKBONES = [\"resnet34\", \"densenet121\", \"efficientnet_b0\", \"convnext_tiny\"]\n",
    "print(\"Planned backbones:\", BACKBONES)\n",
    "\n"
   ]
  },
  {
   "cell_type": "markdown",
   "metadata": {},
   "source": [
    "# 4) Train Utilities (freeze/unfreeze, one epoch runner)"
   ]
  },
  {
   "cell_type": "code",
   "execution_count": 6,
   "metadata": {
    "execution": {
     "iopub.execute_input": "2025-08-26T02:00:25.840618Z",
     "iopub.status.busy": "2025-08-26T02:00:25.840110Z",
     "iopub.status.idle": "2025-08-26T02:00:25.857623Z",
     "shell.execute_reply": "2025-08-26T02:00:25.856842Z",
     "shell.execute_reply.started": "2025-08-26T02:00:25.840594Z"
    },
    "trusted": true
   },
   "outputs": [],
   "source": [
    "# ========================================================\n",
    "# 4) Train Utilities (freeze/unfreeze, one epoch runner)\n",
    "# ========================================================\n",
    "\n",
    "def set_trainable(module, flag=True):\n",
    "    for p in module.parameters():\n",
    "        p.requires_grad = flag\n",
    "\n",
    "def train_one_epoch(model, loader, optimizer, scaler):\n",
    "    model.train()\n",
    "    total, correct, total_loss = 0, 0, 0.0\n",
    "    for x, y in loader:\n",
    "        x, y = x.to(device), y.to(device)\n",
    "        optimizer.zero_grad(set_to_none=True)\n",
    "        with torch.cuda.amp.autocast(enabled=use_amp):\n",
    "            logits = model(x)\n",
    "            loss = criterion(logits, y)\n",
    "        scaler.scale(loss).backward()\n",
    "        scaler.step(optimizer)\n",
    "        scaler.update()\n",
    "\n",
    "        total_loss += loss.item() * y.size(0)\n",
    "        correct    += (logits.argmax(1) == y).sum().item()\n",
    "        total      += y.size(0)\n",
    "    return total_loss/total, correct/total\n"
   ]
  },
  {
   "cell_type": "markdown",
   "metadata": {},
   "source": [
    "# 5) Run Training for Each Backbone"
   ]
  },
  {
   "cell_type": "code",
   "execution_count": 7,
   "metadata": {
    "execution": {
     "iopub.execute_input": "2025-08-26T02:00:25.858792Z",
     "iopub.status.busy": "2025-08-26T02:00:25.858552Z",
     "iopub.status.idle": "2025-08-26T03:45:56.651393Z",
     "shell.execute_reply": "2025-08-26T03:45:56.650679Z",
     "shell.execute_reply.started": "2025-08-26T02:00:25.858776Z"
    },
    "trusted": true
   },
   "outputs": [
    {
     "name": "stdout",
     "output_type": "stream",
     "text": [
      "\n",
      "===== Backbone: resnet34 =====\n"
     ]
    },
    {
     "name": "stderr",
     "output_type": "stream",
     "text": [
      "/tmp/ipykernel_152/2234858659.py:19: FutureWarning: `torch.cuda.amp.GradScaler(args...)` is deprecated. Please use `torch.amp.GradScaler('cuda', args...)` instead.\n",
      "  scaler = torch.cuda.amp.GradScaler(enabled=use_amp)\n",
      "/tmp/ipykernel_152/2754635507.py:15: FutureWarning: `torch.cuda.amp.autocast(args...)` is deprecated. Please use `torch.amp.autocast('cuda', args...)` instead.\n",
      "  with torch.cuda.amp.autocast(enabled=use_amp):\n",
      "/tmp/ipykernel_152/2019446316.py:17: FutureWarning: `torch.cuda.amp.autocast(args...)` is deprecated. Please use `torch.amp.autocast('cuda', args...)` instead.\n",
      "  with torch.cuda.amp.autocast(enabled=use_amp):\n"
     ]
    },
    {
     "name": "stdout",
     "output_type": "stream",
     "text": [
      "[resnet34 | Phase1 | Ep 1/1] train_loss 0.5193 acc 0.8076 | val_loss 0.3511 acc 0.8824 f1 0.8811\n"
     ]
    },
    {
     "name": "stderr",
     "output_type": "stream",
     "text": [
      "/tmp/ipykernel_152/2234858659.py:43: FutureWarning: `torch.cuda.amp.GradScaler(args...)` is deprecated. Please use `torch.amp.GradScaler('cuda', args...)` instead.\n",
      "  scaler = torch.cuda.amp.GradScaler(enabled=use_amp)\n",
      "/tmp/ipykernel_152/2754635507.py:15: FutureWarning: `torch.cuda.amp.autocast(args...)` is deprecated. Please use `torch.amp.autocast('cuda', args...)` instead.\n",
      "  with torch.cuda.amp.autocast(enabled=use_amp):\n",
      "/tmp/ipykernel_152/2019446316.py:17: FutureWarning: `torch.cuda.amp.autocast(args...)` is deprecated. Please use `torch.amp.autocast('cuda', args...)` instead.\n",
      "  with torch.cuda.amp.autocast(enabled=use_amp):\n"
     ]
    },
    {
     "name": "stdout",
     "output_type": "stream",
     "text": [
      "[resnet34 | Phase2 | Ep 1/2] train_loss 0.1370 acc 0.9481 | val_loss 0.1829 acc 0.9497 f1 0.9502\n"
     ]
    },
    {
     "name": "stderr",
     "output_type": "stream",
     "text": [
      "/tmp/ipykernel_152/2754635507.py:15: FutureWarning: `torch.cuda.amp.autocast(args...)` is deprecated. Please use `torch.amp.autocast('cuda', args...)` instead.\n",
      "  with torch.cuda.amp.autocast(enabled=use_amp):\n",
      "/tmp/ipykernel_152/2019446316.py:17: FutureWarning: `torch.cuda.amp.autocast(args...)` is deprecated. Please use `torch.amp.autocast('cuda', args...)` instead.\n",
      "  with torch.cuda.amp.autocast(enabled=use_amp):\n"
     ]
    },
    {
     "name": "stdout",
     "output_type": "stream",
     "text": [
      "[resnet34 | Phase2 | Ep 2/2] train_loss 0.0413 acc 0.9860 | val_loss 0.1466 acc 0.9576 f1 0.9582\n"
     ]
    },
    {
     "name": "stderr",
     "output_type": "stream",
     "text": [
      "/tmp/ipykernel_152/2019446316.py:17: FutureWarning: `torch.cuda.amp.autocast(args...)` is deprecated. Please use `torch.amp.autocast('cuda', args...)` instead.\n",
      "  with torch.cuda.amp.autocast(enabled=use_amp):\n"
     ]
    },
    {
     "name": "stdout",
     "output_type": "stream",
     "text": [
      "→ {'backbone': 'resnet34', 'val_best_f1': 0.9582480241102557, 'test_loss': 0.1268279984411176, 'test_acc': 0.9637681159420289, 'test_macro_f1': 0.9645180906050472, 'precision_macro': 0.9656432748538012, 'recall_macro': 0.964745670995671, 'weights': 'tl_resnet34_best.pt'}\n",
      "\n",
      "===== Backbone: densenet121 =====\n"
     ]
    },
    {
     "name": "stderr",
     "output_type": "stream",
     "text": [
      "Downloading: \"https://download.pytorch.org/models/densenet121-a639ec97.pth\" to /root/.cache/torch/hub/checkpoints/densenet121-a639ec97.pth\n",
      "100%|██████████| 30.8M/30.8M [00:00<00:00, 59.6MB/s]\n",
      "/tmp/ipykernel_152/2234858659.py:19: FutureWarning: `torch.cuda.amp.GradScaler(args...)` is deprecated. Please use `torch.amp.GradScaler('cuda', args...)` instead.\n",
      "  scaler = torch.cuda.amp.GradScaler(enabled=use_amp)\n",
      "/tmp/ipykernel_152/2754635507.py:15: FutureWarning: `torch.cuda.amp.autocast(args...)` is deprecated. Please use `torch.amp.autocast('cuda', args...)` instead.\n",
      "  with torch.cuda.amp.autocast(enabled=use_amp):\n",
      "/tmp/ipykernel_152/2019446316.py:17: FutureWarning: `torch.cuda.amp.autocast(args...)` is deprecated. Please use `torch.amp.autocast('cuda', args...)` instead.\n",
      "  with torch.cuda.amp.autocast(enabled=use_amp):\n"
     ]
    },
    {
     "name": "stdout",
     "output_type": "stream",
     "text": [
      "[densenet121 | Phase1 | Ep 1/1] train_loss 0.3911 acc 0.8620 | val_loss 0.2627 acc 0.9194 f1 0.9199\n"
     ]
    },
    {
     "name": "stderr",
     "output_type": "stream",
     "text": [
      "/tmp/ipykernel_152/2234858659.py:43: FutureWarning: `torch.cuda.amp.GradScaler(args...)` is deprecated. Please use `torch.amp.GradScaler('cuda', args...)` instead.\n",
      "  scaler = torch.cuda.amp.GradScaler(enabled=use_amp)\n",
      "/tmp/ipykernel_152/2754635507.py:15: FutureWarning: `torch.cuda.amp.autocast(args...)` is deprecated. Please use `torch.amp.autocast('cuda', args...)` instead.\n",
      "  with torch.cuda.amp.autocast(enabled=use_amp):\n",
      "/tmp/ipykernel_152/2019446316.py:17: FutureWarning: `torch.cuda.amp.autocast(args...)` is deprecated. Please use `torch.amp.autocast('cuda', args...)` instead.\n",
      "  with torch.cuda.amp.autocast(enabled=use_amp):\n"
     ]
    },
    {
     "name": "stdout",
     "output_type": "stream",
     "text": [
      "[densenet121 | Phase2 | Ep 1/2] train_loss 0.0892 acc 0.9695 | val_loss 0.0910 acc 0.9685 f1 0.9684\n"
     ]
    },
    {
     "name": "stderr",
     "output_type": "stream",
     "text": [
      "/tmp/ipykernel_152/2754635507.py:15: FutureWarning: `torch.cuda.amp.autocast(args...)` is deprecated. Please use `torch.amp.autocast('cuda', args...)` instead.\n",
      "  with torch.cuda.amp.autocast(enabled=use_amp):\n",
      "/tmp/ipykernel_152/2019446316.py:17: FutureWarning: `torch.cuda.amp.autocast(args...)` is deprecated. Please use `torch.amp.autocast('cuda', args...)` instead.\n",
      "  with torch.cuda.amp.autocast(enabled=use_amp):\n"
     ]
    },
    {
     "name": "stdout",
     "output_type": "stream",
     "text": [
      "[densenet121 | Phase2 | Ep 2/2] train_loss 0.0274 acc 0.9902 | val_loss 0.1083 acc 0.9709 f1 0.9706\n"
     ]
    },
    {
     "name": "stderr",
     "output_type": "stream",
     "text": [
      "/tmp/ipykernel_152/2019446316.py:17: FutureWarning: `torch.cuda.amp.autocast(args...)` is deprecated. Please use `torch.amp.autocast('cuda', args...)` instead.\n",
      "  with torch.cuda.amp.autocast(enabled=use_amp):\n",
      "Downloading: \"https://download.pytorch.org/models/efficientnet_b0_rwightman-7f5810bc.pth\" to /root/.cache/torch/hub/checkpoints/efficientnet_b0_rwightman-7f5810bc.pth\n"
     ]
    },
    {
     "name": "stdout",
     "output_type": "stream",
     "text": [
      "→ {'backbone': 'densenet121', 'val_best_f1': 0.9705828396371238, 'test_loss': 0.13218254455611148, 'test_acc': 0.9710144927536232, 'test_macro_f1': 0.9703775046372736, 'precision_macro': 0.9727564102564102, 'recall_macro': 0.9696428571428571, 'weights': 'tl_densenet121_best.pt'}\n",
      "\n",
      "===== Backbone: efficientnet_b0 =====\n"
     ]
    },
    {
     "name": "stderr",
     "output_type": "stream",
     "text": [
      "100%|██████████| 20.5M/20.5M [00:00<00:00, 36.7MB/s]\n",
      "/tmp/ipykernel_152/2234858659.py:19: FutureWarning: `torch.cuda.amp.GradScaler(args...)` is deprecated. Please use `torch.amp.GradScaler('cuda', args...)` instead.\n",
      "  scaler = torch.cuda.amp.GradScaler(enabled=use_amp)\n",
      "/tmp/ipykernel_152/2754635507.py:15: FutureWarning: `torch.cuda.amp.autocast(args...)` is deprecated. Please use `torch.amp.autocast('cuda', args...)` instead.\n",
      "  with torch.cuda.amp.autocast(enabled=use_amp):\n",
      "/tmp/ipykernel_152/2019446316.py:17: FutureWarning: `torch.cuda.amp.autocast(args...)` is deprecated. Please use `torch.amp.autocast('cuda', args...)` instead.\n",
      "  with torch.cuda.amp.autocast(enabled=use_amp):\n"
     ]
    },
    {
     "name": "stdout",
     "output_type": "stream",
     "text": [
      "[efficientnet_b0 | Phase1 | Ep 1/1] train_loss 0.4328 acc 0.8482 | val_loss 0.2377 acc 0.9176 f1 0.9173\n"
     ]
    },
    {
     "name": "stderr",
     "output_type": "stream",
     "text": [
      "/tmp/ipykernel_152/2234858659.py:43: FutureWarning: `torch.cuda.amp.GradScaler(args...)` is deprecated. Please use `torch.amp.GradScaler('cuda', args...)` instead.\n",
      "  scaler = torch.cuda.amp.GradScaler(enabled=use_amp)\n",
      "/tmp/ipykernel_152/2754635507.py:15: FutureWarning: `torch.cuda.amp.autocast(args...)` is deprecated. Please use `torch.amp.autocast('cuda', args...)` instead.\n",
      "  with torch.cuda.amp.autocast(enabled=use_amp):\n",
      "/tmp/ipykernel_152/2019446316.py:17: FutureWarning: `torch.cuda.amp.autocast(args...)` is deprecated. Please use `torch.amp.autocast('cuda', args...)` instead.\n",
      "  with torch.cuda.amp.autocast(enabled=use_amp):\n"
     ]
    },
    {
     "name": "stdout",
     "output_type": "stream",
     "text": [
      "[efficientnet_b0 | Phase2 | Ep 1/2] train_loss 0.1631 acc 0.9405 | val_loss 0.0969 acc 0.9588 f1 0.9595\n"
     ]
    },
    {
     "name": "stderr",
     "output_type": "stream",
     "text": [
      "/tmp/ipykernel_152/2754635507.py:15: FutureWarning: `torch.cuda.amp.autocast(args...)` is deprecated. Please use `torch.amp.autocast('cuda', args...)` instead.\n",
      "  with torch.cuda.amp.autocast(enabled=use_amp):\n",
      "/tmp/ipykernel_152/2019446316.py:17: FutureWarning: `torch.cuda.amp.autocast(args...)` is deprecated. Please use `torch.amp.autocast('cuda', args...)` instead.\n",
      "  with torch.cuda.amp.autocast(enabled=use_amp):\n"
     ]
    },
    {
     "name": "stdout",
     "output_type": "stream",
     "text": [
      "[efficientnet_b0 | Phase2 | Ep 2/2] train_loss 0.0655 acc 0.9771 | val_loss 0.1012 acc 0.9630 f1 0.9640\n"
     ]
    },
    {
     "name": "stderr",
     "output_type": "stream",
     "text": [
      "/tmp/ipykernel_152/2019446316.py:17: FutureWarning: `torch.cuda.amp.autocast(args...)` is deprecated. Please use `torch.amp.autocast('cuda', args...)` instead.\n",
      "  with torch.cuda.amp.autocast(enabled=use_amp):\n"
     ]
    },
    {
     "name": "stdout",
     "output_type": "stream",
     "text": [
      "→ {'backbone': 'efficientnet_b0', 'val_best_f1': 0.9639769157409197, 'test_loss': 0.09864503231606711, 'test_acc': 0.9710144927536232, 'test_macro_f1': 0.9703837278346064, 'precision_macro': 0.969955289808231, 'recall_macro': 0.9709956709956711, 'weights': 'tl_efficientnet_b0_best.pt'}\n",
      "\n",
      "===== Backbone: convnext_tiny =====\n"
     ]
    },
    {
     "name": "stderr",
     "output_type": "stream",
     "text": [
      "Downloading: \"https://download.pytorch.org/models/convnext_tiny-983f1562.pth\" to /root/.cache/torch/hub/checkpoints/convnext_tiny-983f1562.pth\n",
      "100%|██████████| 109M/109M [00:02<00:00, 39.3MB/s] \n",
      "/tmp/ipykernel_152/2234858659.py:19: FutureWarning: `torch.cuda.amp.GradScaler(args...)` is deprecated. Please use `torch.amp.GradScaler('cuda', args...)` instead.\n",
      "  scaler = torch.cuda.amp.GradScaler(enabled=use_amp)\n",
      "/tmp/ipykernel_152/2754635507.py:15: FutureWarning: `torch.cuda.amp.autocast(args...)` is deprecated. Please use `torch.amp.autocast('cuda', args...)` instead.\n",
      "  with torch.cuda.amp.autocast(enabled=use_amp):\n",
      "/tmp/ipykernel_152/2019446316.py:17: FutureWarning: `torch.cuda.amp.autocast(args...)` is deprecated. Please use `torch.amp.autocast('cuda', args...)` instead.\n",
      "  with torch.cuda.amp.autocast(enabled=use_amp):\n"
     ]
    },
    {
     "name": "stdout",
     "output_type": "stream",
     "text": [
      "[convnext_tiny | Phase1 | Ep 1/1] train_loss 0.2852 acc 0.9023 | val_loss 0.1868 acc 0.9503 f1 0.9511\n"
     ]
    },
    {
     "name": "stderr",
     "output_type": "stream",
     "text": [
      "/tmp/ipykernel_152/2234858659.py:43: FutureWarning: `torch.cuda.amp.GradScaler(args...)` is deprecated. Please use `torch.amp.GradScaler('cuda', args...)` instead.\n",
      "  scaler = torch.cuda.amp.GradScaler(enabled=use_amp)\n",
      "/tmp/ipykernel_152/2754635507.py:15: FutureWarning: `torch.cuda.amp.autocast(args...)` is deprecated. Please use `torch.amp.autocast('cuda', args...)` instead.\n",
      "  with torch.cuda.amp.autocast(enabled=use_amp):\n",
      "/tmp/ipykernel_152/2019446316.py:17: FutureWarning: `torch.cuda.amp.autocast(args...)` is deprecated. Please use `torch.amp.autocast('cuda', args...)` instead.\n",
      "  with torch.cuda.amp.autocast(enabled=use_amp):\n"
     ]
    },
    {
     "name": "stdout",
     "output_type": "stream",
     "text": [
      "[convnext_tiny | Phase2 | Ep 1/2] train_loss 0.0662 acc 0.9762 | val_loss 0.0859 acc 0.9709 f1 0.9712\n"
     ]
    },
    {
     "name": "stderr",
     "output_type": "stream",
     "text": [
      "/tmp/ipykernel_152/2754635507.py:15: FutureWarning: `torch.cuda.amp.autocast(args...)` is deprecated. Please use `torch.amp.autocast('cuda', args...)` instead.\n",
      "  with torch.cuda.amp.autocast(enabled=use_amp):\n",
      "/tmp/ipykernel_152/2019446316.py:17: FutureWarning: `torch.cuda.amp.autocast(args...)` is deprecated. Please use `torch.amp.autocast('cuda', args...)` instead.\n",
      "  with torch.cuda.amp.autocast(enabled=use_amp):\n"
     ]
    },
    {
     "name": "stdout",
     "output_type": "stream",
     "text": [
      "[convnext_tiny | Phase2 | Ep 2/2] train_loss 0.0108 acc 0.9965 | val_loss 0.0791 acc 0.9758 f1 0.9757\n"
     ]
    },
    {
     "name": "stderr",
     "output_type": "stream",
     "text": [
      "/tmp/ipykernel_152/2019446316.py:17: FutureWarning: `torch.cuda.amp.autocast(args...)` is deprecated. Please use `torch.amp.autocast('cuda', args...)` instead.\n",
      "  with torch.cuda.amp.autocast(enabled=use_amp):\n"
     ]
    },
    {
     "name": "stdout",
     "output_type": "stream",
     "text": [
      "→ {'backbone': 'convnext_tiny', 'val_best_f1': 0.9757359371747767, 'test_loss': 0.06640297260836948, 'test_acc': 0.9710144927536232, 'test_macro_f1': 0.9703775046372736, 'precision_macro': 0.9727564102564102, 'recall_macro': 0.9696428571428571, 'weights': 'tl_convnext_tiny_best.pt'}\n"
     ]
    },
    {
     "data": {
      "text/html": [
       "<div>\n",
       "<style scoped>\n",
       "    .dataframe tbody tr th:only-of-type {\n",
       "        vertical-align: middle;\n",
       "    }\n",
       "\n",
       "    .dataframe tbody tr th {\n",
       "        vertical-align: top;\n",
       "    }\n",
       "\n",
       "    .dataframe thead th {\n",
       "        text-align: right;\n",
       "    }\n",
       "</style>\n",
       "<table border=\"1\" class=\"dataframe\">\n",
       "  <thead>\n",
       "    <tr style=\"text-align: right;\">\n",
       "      <th></th>\n",
       "      <th>backbone</th>\n",
       "      <th>val_best_f1</th>\n",
       "      <th>test_loss</th>\n",
       "      <th>test_acc</th>\n",
       "      <th>test_macro_f1</th>\n",
       "      <th>precision_macro</th>\n",
       "      <th>recall_macro</th>\n",
       "      <th>weights</th>\n",
       "    </tr>\n",
       "  </thead>\n",
       "  <tbody>\n",
       "    <tr>\n",
       "      <th>2</th>\n",
       "      <td>efficientnet_b0</td>\n",
       "      <td>0.963977</td>\n",
       "      <td>0.098645</td>\n",
       "      <td>0.971014</td>\n",
       "      <td>0.970384</td>\n",
       "      <td>0.969955</td>\n",
       "      <td>0.970996</td>\n",
       "      <td>tl_efficientnet_b0_best.pt</td>\n",
       "    </tr>\n",
       "    <tr>\n",
       "      <th>1</th>\n",
       "      <td>densenet121</td>\n",
       "      <td>0.970583</td>\n",
       "      <td>0.132183</td>\n",
       "      <td>0.971014</td>\n",
       "      <td>0.970378</td>\n",
       "      <td>0.972756</td>\n",
       "      <td>0.969643</td>\n",
       "      <td>tl_densenet121_best.pt</td>\n",
       "    </tr>\n",
       "    <tr>\n",
       "      <th>3</th>\n",
       "      <td>convnext_tiny</td>\n",
       "      <td>0.975736</td>\n",
       "      <td>0.066403</td>\n",
       "      <td>0.971014</td>\n",
       "      <td>0.970378</td>\n",
       "      <td>0.972756</td>\n",
       "      <td>0.969643</td>\n",
       "      <td>tl_convnext_tiny_best.pt</td>\n",
       "    </tr>\n",
       "    <tr>\n",
       "      <th>0</th>\n",
       "      <td>resnet34</td>\n",
       "      <td>0.958248</td>\n",
       "      <td>0.126828</td>\n",
       "      <td>0.963768</td>\n",
       "      <td>0.964518</td>\n",
       "      <td>0.965643</td>\n",
       "      <td>0.964746</td>\n",
       "      <td>tl_resnet34_best.pt</td>\n",
       "    </tr>\n",
       "  </tbody>\n",
       "</table>\n",
       "</div>"
      ],
      "text/plain": [
       "          backbone  val_best_f1  test_loss  test_acc  test_macro_f1  \\\n",
       "2  efficientnet_b0     0.963977   0.098645  0.971014       0.970384   \n",
       "1      densenet121     0.970583   0.132183  0.971014       0.970378   \n",
       "3    convnext_tiny     0.975736   0.066403  0.971014       0.970378   \n",
       "0         resnet34     0.958248   0.126828  0.963768       0.964518   \n",
       "\n",
       "   precision_macro  recall_macro                     weights  \n",
       "2         0.969955      0.970996  tl_efficientnet_b0_best.pt  \n",
       "1         0.972756      0.969643      tl_densenet121_best.pt  \n",
       "3         0.972756      0.969643    tl_convnext_tiny_best.pt  \n",
       "0         0.965643      0.964746         tl_resnet34_best.pt  "
      ]
     },
     "metadata": {},
     "output_type": "display_data"
    },
    {
     "name": "stdout",
     "output_type": "stream",
     "text": [
      "Saved: transfer_learning_results.csv\n"
     ]
    }
   ],
   "source": [
    "# ==========================================\n",
    "# 5) Run Training for Each Backbone\n",
    "# ==========================================\n",
    "\n",
    "results = []\n",
    "\n",
    "for name in BACKBONES:\n",
    "    print(f\"\\n===== Backbone: {name} =====\")\n",
    "    model, cls_params = make_model(name, NUM_CLASSES)\n",
    "\n",
    "    # -------- Phase 1: freeze backbone, train head only --------\n",
    "    set_trainable(model, False)\n",
    "    for p in cls_params:  # re-enable classifier head\n",
    "        p.requires_grad = True\n",
    "\n",
    "    optimizer = torch.optim.AdamW(filter(lambda p: p.requires_grad, model.parameters()),\n",
    "                                  lr=LR_HEAD, weight_decay=WEIGHT_DECAY)\n",
    "    scheduler = torch.optim.lr_scheduler.ReduceLROnPlateau(optimizer, mode=\"max\", factor=0.5, patience=1)\n",
    "    scaler = torch.cuda.amp.GradScaler(enabled=use_amp)\n",
    "\n",
    "    best_f1 = -1.0\n",
    "    epochs_no_improve = 0\n",
    "    best_path = f\"tl_{name}_best.pt\"\n",
    "\n",
    "    for epoch in range(1, PHASE1_EPOCHS+1):\n",
    "        tr_loss, tr_acc = train_one_epoch(model, train_loader, optimizer, scaler)\n",
    "        val_loss, val_acc, val_f1, _, _ = evaluate(model, val_loader)\n",
    "        scheduler.step(val_f1)\n",
    "        print(f\"[{name} | Phase1 | Ep {epoch}/{PHASE1_EPOCHS}] train_loss {tr_loss:.4f} acc {tr_acc:.4f} | val_loss {val_loss:.4f} acc {val_acc:.4f} f1 {val_f1:.4f}\")\n",
    "\n",
    "        if val_f1 > best_f1 + 1e-4:\n",
    "            best_f1 = val_f1; epochs_no_improve = 0\n",
    "            torch.save({\"model_state\": model.state_dict(), \"arch\": name, \"val_f1\": best_f1}, best_path)\n",
    "        else:\n",
    "            epochs_no_improve += 1\n",
    "            if epochs_no_improve >= EARLY_STOP_PATIENCE:\n",
    "                print(\"  Early stop (Phase1).\"); break\n",
    "\n",
    "    # -------- Phase 2: unfreeze & fine-tune --------\n",
    "    set_trainable(model, True)  # unfreeze all (or selectively if you want)\n",
    "    optimizer = torch.optim.AdamW(model.parameters(), lr=LR_FT, weight_decay=WEIGHT_DECAY)\n",
    "    scheduler = torch.optim.lr_scheduler.ReduceLROnPlateau(optimizer, mode=\"max\", factor=0.5, patience=1)\n",
    "    scaler = torch.cuda.amp.GradScaler(enabled=use_amp)\n",
    "    epochs_no_improve = 0\n",
    "\n",
    "    for epoch in range(1, PHASE2_EPOCHS+1):\n",
    "        tr_loss, tr_acc = train_one_epoch(model, train_loader, optimizer, scaler)\n",
    "        val_loss, val_acc, val_f1, _, _ = evaluate(model, val_loader)\n",
    "        scheduler.step(val_f1)\n",
    "        print(f\"[{name} | Phase2 | Ep {epoch}/{PHASE2_EPOCHS}] train_loss {tr_loss:.4f} acc {tr_acc:.4f} | val_loss {val_loss:.4f} acc {val_acc:.4f} f1 {val_f1:.4f}\")\n",
    "\n",
    "        if val_f1 > best_f1 + 1e-4:\n",
    "            best_f1 = val_f1; epochs_no_improve = 0\n",
    "            torch.save({\"model_state\": model.state_dict(), \"arch\": name, \"val_f1\": best_f1}, best_path)\n",
    "        else:\n",
    "            epochs_no_improve += 1\n",
    "            if epochs_no_improve >= EARLY_STOP_PATIENCE:\n",
    "                print(\"  Early stop (Phase2).\"); break\n",
    "\n",
    "    # -------- Test best checkpoint --------\n",
    "    ckpt = torch.load(best_path, map_location=\"cpu\")\n",
    "    model.load_state_dict(ckpt[\"model_state\"])\n",
    "    model.to(device)\n",
    "    test_loss, test_acc, test_f1, y_true, y_pred = evaluate(model, test_loader)\n",
    "\n",
    "    report = classification_report(y_true, y_pred, target_names=CLASSES, zero_division=0, output_dict=True)\n",
    "    row = {\n",
    "        \"backbone\": name,\n",
    "        \"val_best_f1\": best_f1,\n",
    "        \"test_loss\": test_loss,\n",
    "        \"test_acc\":  test_acc,\n",
    "        \"test_macro_f1\": test_f1,\n",
    "        \"precision_macro\": report[\"macro avg\"][\"precision\"],\n",
    "        \"recall_macro\": report[\"macro avg\"][\"recall\"],\n",
    "        \"weights\": f\"tl_{name}_best.pt\"\n",
    "    }\n",
    "    results.append(row)\n",
    "    print(\"→\", row)\n",
    "\n",
    "df = pd.DataFrame(results).sort_values(\"test_macro_f1\", ascending=False)\n",
    "display(df)\n",
    "df.to_csv(RESULTS_CSV, index=False)\n",
    "print(\"Saved:\", RESULTS_CSV)\n"
   ]
  },
  {
   "cell_type": "markdown",
   "metadata": {},
   "source": [
    "# 6) Confusion Matrix for the Top Model"
   ]
  },
  {
   "cell_type": "code",
   "execution_count": 8,
   "metadata": {
    "execution": {
     "iopub.execute_input": "2025-08-26T03:45:56.652915Z",
     "iopub.status.busy": "2025-08-26T03:45:56.652495Z",
     "iopub.status.idle": "2025-08-26T03:46:08.786081Z",
     "shell.execute_reply": "2025-08-26T03:46:08.785196Z",
     "shell.execute_reply.started": "2025-08-26T03:45:56.652887Z"
    },
    "trusted": true
   },
   "outputs": [
    {
     "name": "stdout",
     "output_type": "stream",
     "text": [
      "Best backbone by test_macro_f1: efficientnet_b0\n"
     ]
    },
    {
     "name": "stderr",
     "output_type": "stream",
     "text": [
      "/tmp/ipykernel_152/2019446316.py:17: FutureWarning: `torch.cuda.amp.autocast(args...)` is deprecated. Please use `torch.amp.autocast('cuda', args...)` instead.\n",
      "  with torch.cuda.amp.autocast(enabled=use_amp):\n"
     ]
    },
    {
     "data": {
      "image/png": "[encoded data removed]",
      "text/plain": [
       "<Figure size 500x400 with 2 Axes>"
      ]
     },
     "metadata": {},
     "output_type": "display_data"
    }
   ],
   "source": [
    "# ==========================================\n",
    "# 6) Confusion Matrix for the Top Model\n",
    "# ==========================================\n",
    "\n",
    "# Plot confusion matrix for the best model\n",
    "best_name = df.iloc[0][\"backbone\"]\n",
    "print(\"Best backbone by test_macro_f1:\", best_name)\n",
    "ckpt = torch.load(f\"tl_{best_name}_best.pt\", map_location=\"cpu\")\n",
    "\n",
    "# Recreate the model skeleton, load weights\n",
    "m, _ = make_model(best_name, NUM_CLASSES)\n",
    "m.load_state_dict(ckpt[\"model_state\"]); m.to(device)\n",
    "\n",
    "_, _, _, y_true, y_pred = evaluate(m, test_loader)\n",
    "cm = confusion_matrix(y_true, y_pred, labels=list(range(NUM_CLASSES)))\n",
    "\n",
    "plt.figure(figsize=(5,4))\n",
    "plt.imshow(cm, interpolation='nearest', cmap=plt.cm.Blues)\n",
    "plt.title(f\"Confusion Matrix — {best_name}\"); plt.colorbar()\n",
    "ticks = np.arange(NUM_CLASSES)\n",
    "plt.xticks(ticks, CLASSES, rotation=45); plt.yticks(ticks, CLASSES)\n",
    "th = cm.max()/2\n",
    "for i in range(cm.shape[0]):\n",
    "    for j in range(cm.shape[1]):\n",
    "        plt.text(j, i, cm[i, j], ha=\"center\",\n",
    "                 color=\"white\" if cm[i,j] > th else \"black\", fontsize=9)\n",
    "plt.ylabel(\"True\"); plt.xlabel(\"Pred\"); plt.tight_layout(); plt.show()\n",
    "\n",
    "\n"
   ]
  },
  {
   "cell_type": "markdown",
   "metadata": {},
   "source": [
    "# 7) Load & evaluate Stage-B custom CNN (CitrusNet) for side-by-side comparison"
   ]
  },
  {
   "cell_type": "code",
   "execution_count": 10,
   "metadata": {
    "execution": {
     "iopub.execute_input": "2025-08-26T04:26:41.879859Z",
     "iopub.status.busy": "2025-08-26T04:26:41.879477Z",
     "iopub.status.idle": "2025-08-26T04:26:53.700957Z",
     "shell.execute_reply": "2025-08-26T04:26:53.700100Z",
     "shell.execute_reply.started": "2025-08-26T04:26:41.879836Z"
    },
    "trusted": true
   },
   "outputs": [
    {
     "name": "stdout",
     "output_type": "stream",
     "text": [
      "Custom CNN (Stage-B) on TEST | loss 0.1310 | acc 0.9638 | macro-F1 0.9628\n"
     ]
    }
   ],
   "source": [
    "# ===============================================================================\n",
    "# 7) Load & evaluate Stage-B custom CNN (CitrusNet) for side-by-side comparison\n",
    "# ===============================================================================\n",
    "\n",
    "import torch.nn as nn\n",
    "import torch.nn.functional as F\n",
    "from torch import amp\n",
    "\n",
    "# Re-declare the same custom model you used in Stage B\n",
    "class DepthwiseSeparableConv(nn.Module):\n",
    "    def __init__(self, in_ch, out_ch, stride=1, p_drop=0.0):\n",
    "        super().__init__()\n",
    "        self.dw = nn.Conv2d(in_ch, in_ch, kernel_size=3, stride=stride, padding=1, groups=in_ch, bias=False)\n",
    "        self.dw_bn = nn.BatchNorm2d(in_ch)\n",
    "        self.pw = nn.Conv2d(in_ch, out_ch, kernel_size=1, bias=False)\n",
    "        self.pw_bn = nn.BatchNorm2d(out_ch)\n",
    "        self.drop = nn.Dropout(p_drop) if p_drop>0 else nn.Identity()\n",
    "    def forward(self, x):\n",
    "        x = F.relu(self.dw_bn(self.dw(x)), inplace=True)\n",
    "        x = F.relu(self.pw_bn(self.pw(x)), inplace=True)\n",
    "        x = self.drop(x); return x\n",
    "\n",
    "class ResidualBlock(nn.Module):\n",
    "    def __init__(self, in_ch, out_ch, stride=1, p_drop=0.0):\n",
    "        super().__init__()\n",
    "        self.conv = DepthwiseSeparableConv(in_ch, out_ch, stride=stride, p_drop=p_drop)\n",
    "        self.proj = None\n",
    "        if stride != 1 or in_ch != out_ch:\n",
    "            self.proj = nn.Sequential(nn.Conv2d(in_ch, out_ch, 1, stride=stride, bias=False),\n",
    "                                      nn.BatchNorm2d(out_ch))\n",
    "    def forward(self, x):\n",
    "        out = self.conv(x)\n",
    "        res = x if self.proj is None else self.proj(x)\n",
    "        return F.relu(out + res, inplace=True)\n",
    "\n",
    "class CitrusNet(nn.Module):\n",
    "    def __init__(self, num_classes=4, width=(32,64,128,256), p_drop=0.10):\n",
    "        super().__init__()\n",
    "        w1, w2, w3, w4 = width\n",
    "        self.stem = nn.Sequential(nn.Conv2d(3, w1, 3, stride=2, padding=1, bias=False),\n",
    "                                  nn.BatchNorm2d(w1), nn.ReLU(inplace=True))\n",
    "        self.stage1 = ResidualBlock(w1,  w2, stride=1, p_drop=p_drop)\n",
    "        self.stage2 = ResidualBlock(w2,  w2, stride=1, p_drop=p_drop)\n",
    "        self.stage3 = ResidualBlock(w2,  w3, stride=2, p_drop=p_drop)\n",
    "        self.stage4 = ResidualBlock(w3,  w3, stride=1, p_drop=p_drop)\n",
    "        self.stage5 = ResidualBlock(w3,  w4, stride=2, p_drop=p_drop)\n",
    "        self.stage6 = ResidualBlock(w4,  w4, stride=1, p_drop=p_drop)\n",
    "        self.head = nn.Sequential(nn.AdaptiveAvgPool2d(1), nn.Flatten(), nn.Dropout(0.30), nn.Linear(w4, num_classes))\n",
    "        # init\n",
    "        for m in self.modules():\n",
    "            if isinstance(m, (nn.Conv2d, nn.Linear)): nn.init.kaiming_normal_(m.weight, nonlinearity=\"relu\")\n",
    "            if isinstance(m, nn.BatchNorm2d): nn.init.constant_(m.weight, 1.0); nn.init.constant_(m.bias, 0.0)\n",
    "    def forward(self, x):\n",
    "        x = self.stem(x)\n",
    "        x = self.stage1(x); x = self.stage2(x)\n",
    "        x = self.stage3(x); x = self.stage4(x)\n",
    "        x = self.stage5(x); x = self.stage6(x)\n",
    "        x = self.head(x)\n",
    "        return x\n",
    "\n",
    "# Loaded the checkpoint from Stage B\n",
    "custom_path = \"/kaggle/input/citrusnet-custom-cnn/pytorch/1/1/custom_cnn_best.pt\"\n",
    "ckpt_custom = torch.load(custom_path, map_location=\"cpu\")\n",
    "\n",
    "custom_model = CitrusNet(num_classes=NUM_CLASSES).to(device)\n",
    "custom_model.load_state_dict(ckpt_custom[\"model_state\"])\n",
    "custom_model.eval()\n",
    "\n",
    "# Evaluate on the same test_loader used by TL\n",
    "criterion = nn.CrossEntropyLoss()\n",
    "use_amp = (device.type == \"cuda\")\n",
    "@torch.no_grad()\n",
    "def eval_only(model, loader):\n",
    "    model.eval()\n",
    "    all_t, all_p = [], []\n",
    "    total, correct, total_loss = 0, 0, 0.0\n",
    "    for x, y in loader:\n",
    "        x, y = x.to(device), y.to(device)\n",
    "        with amp.autocast(device_type=\"cuda\", enabled=use_amp):\n",
    "            logits = model(x)\n",
    "            loss = criterion(logits, y)\n",
    "        pred = logits.argmax(1)\n",
    "        total_loss += loss.item() * y.size(0)\n",
    "        correct += (pred == y).sum().item()\n",
    "        total += y.size(0)\n",
    "        all_t.extend(y.detach().cpu().tolist())\n",
    "        all_p.extend(pred.detach().cpu().tolist())\n",
    "    from sklearn.metrics import classification_report\n",
    "    rep = classification_report(all_t, all_p, target_names=CLASSES, output_dict=True, zero_division=0)\n",
    "    return total_loss/total, correct/total, rep[\"macro avg\"][\"f1-score\"]\n",
    "\n",
    "cust_loss, cust_acc, cust_f1 = eval_only(custom_model, test_loader)\n",
    "print(f\"Custom CNN (Stage-B) on TEST | loss {cust_loss:.4f} | acc {cust_acc:.4f} | macro-F1 {cust_f1:.4f}\")\n"
   ]
  },
  {
   "cell_type": "markdown",
   "metadata": {},
   "source": [
    "# 8) Add custom CNN row to the TL results table and display/save"
   ]
  },
  {
   "cell_type": "code",
   "execution_count": null,
   "metadata": {
    "execution": {
     "iopub.execute_input": "2025-08-26T04:27:09.785879Z",
     "iopub.status.busy": "2025-08-26T04:27:09.785472Z",
     "iopub.status.idle": "2025-08-26T04:27:09.806515Z",
     "shell.execute_reply": "2025-08-26T04:27:09.805725Z",
     "shell.execute_reply.started": "2025-08-26T04:27:09.785853Z"
    },
    "trusted": true
   },
   "outputs": [
    {
     "name": "stderr",
     "output_type": "stream",
     "text": [
      "/tmp/ipykernel_152/2563812395.py:16: FutureWarning: The behavior of DataFrame concatenation with empty or all-NA entries is deprecated. In a future version, this will no longer exclude empty or all-NA columns when determining the result dtypes. To retain the old behavior, exclude the relevant entries before the concat operation.\n",
      "  df_combined = pd.concat([df, pd.DataFrame([custom_row])], ignore_index=True).sort_values(\"test_macro_f1\", ascending=False)\n",
      "/usr/local/lib/python3.11/dist-packages/pandas/io/formats/format.py:1458: RuntimeWarning: invalid value encountered in greater\n",
      "  has_large_values = (abs_vals > 1e6).any()\n",
      "/usr/local/lib/python3.11/dist-packages/pandas/io/formats/format.py:1459: RuntimeWarning: invalid value encountered in less\n",
      "  has_small_values = ((abs_vals < 10 ** (-self.digits)) & (abs_vals > 0)).any()\n",
      "/usr/local/lib/python3.11/dist-packages/pandas/io/formats/format.py:1459: RuntimeWarning: invalid value encountered in greater\n",
      "  has_small_values = ((abs_vals < 10 ** (-self.digits)) & (abs_vals > 0)).any()\n"
     ]
    },
    {
     "data": {
      "text/html": [
       "<div>\n",
       "<style scoped>\n",
       "    .dataframe tbody tr th:only-of-type {\n",
       "        vertical-align: middle;\n",
       "    }\n",
       "\n",
       "    .dataframe tbody tr th {\n",
       "        vertical-align: top;\n",
       "    }\n",
       "\n",
       "    .dataframe thead th {\n",
       "        text-align: right;\n",
       "    }\n",
       "</style>\n",
       "<table border=\"1\" class=\"dataframe\">\n",
       "  <thead>\n",
       "    <tr style=\"text-align: right;\">\n",
       "      <th></th>\n",
       "      <th>backbone</th>\n",
       "      <th>val_best_f1</th>\n",
       "      <th>test_loss</th>\n",
       "      <th>test_acc</th>\n",
       "      <th>test_macro_f1</th>\n",
       "      <th>precision_macro</th>\n",
       "      <th>recall_macro</th>\n",
       "      <th>weights</th>\n",
       "    </tr>\n",
       "  </thead>\n",
       "  <tbody>\n",
       "    <tr>\n",
       "      <th>0</th>\n",
       "      <td>efficientnet_b0</td>\n",
       "      <td>0.963977</td>\n",
       "      <td>0.098645</td>\n",
       "      <td>0.971014</td>\n",
       "      <td>0.970384</td>\n",
       "      <td>0.969955</td>\n",
       "      <td>0.970996</td>\n",
       "      <td>tl_efficientnet_b0_best.pt</td>\n",
       "    </tr>\n",
       "    <tr>\n",
       "      <th>1</th>\n",
       "      <td>densenet121</td>\n",
       "      <td>0.970583</td>\n",
       "      <td>0.132183</td>\n",
       "      <td>0.971014</td>\n",
       "      <td>0.970378</td>\n",
       "      <td>0.972756</td>\n",
       "      <td>0.969643</td>\n",
       "      <td>tl_densenet121_best.pt</td>\n",
       "    </tr>\n",
       "    <tr>\n",
       "      <th>2</th>\n",
       "      <td>convnext_tiny</td>\n",
       "      <td>0.975736</td>\n",
       "      <td>0.066403</td>\n",
       "      <td>0.971014</td>\n",
       "      <td>0.970378</td>\n",
       "      <td>0.972756</td>\n",
       "      <td>0.969643</td>\n",
       "      <td>tl_convnext_tiny_best.pt</td>\n",
       "    </tr>\n",
       "    <tr>\n",
       "      <th>3</th>\n",
       "      <td>resnet34</td>\n",
       "      <td>0.958248</td>\n",
       "      <td>0.126828</td>\n",
       "      <td>0.963768</td>\n",
       "      <td>0.964518</td>\n",
       "      <td>0.965643</td>\n",
       "      <td>0.964746</td>\n",
       "      <td>tl_resnet34_best.pt</td>\n",
       "    </tr>\n",
       "    <tr>\n",
       "      <th>4</th>\n",
       "      <td>custom_cnn</td>\n",
       "      <td>0.922605</td>\n",
       "      <td>0.130963</td>\n",
       "      <td>0.963768</td>\n",
       "      <td>0.962815</td>\n",
       "      <td>NaN</td>\n",
       "      <td>NaN</td>\n",
       "      <td>custom_cnn_best.pt</td>\n",
       "    </tr>\n",
       "  </tbody>\n",
       "</table>\n",
       "</div>"
      ],
      "text/plain": [
       "          backbone  val_best_f1  test_loss  test_acc  test_macro_f1  \\\n",
       "0  efficientnet_b0     0.963977   0.098645  0.971014       0.970384   \n",
       "1      densenet121     0.970583   0.132183  0.971014       0.970378   \n",
       "2    convnext_tiny     0.975736   0.066403  0.971014       0.970378   \n",
       "3         resnet34     0.958248   0.126828  0.963768       0.964518   \n",
       "4       custom_cnn     0.922605   0.130963  0.963768       0.962815   \n",
       "\n",
       "   precision_macro  recall_macro                     weights  \n",
       "0         0.969955      0.970996  tl_efficientnet_b0_best.pt  \n",
       "1         0.972756      0.969643      tl_densenet121_best.pt  \n",
       "2         0.972756      0.969643    tl_convnext_tiny_best.pt  \n",
       "3         0.965643      0.964746         tl_resnet34_best.pt  \n",
       "4              NaN           NaN          custom_cnn_best.pt  "
      ]
     },
     "metadata": {},
     "output_type": "display_data"
    },
    {
     "name": "stdout",
     "output_type": "stream",
     "text": [
      "Saved: combined_results_with_custom.csv\n"
     ]
    }
   ],
   "source": [
    "# ==================================================================\n",
    "# 8) Add custom CNN row to the TL results table and display/save  (By Deb)\n",
    "# ==================================================================\n",
    "\n",
    "custom_row = {\n",
    "    \"backbone\": \"custom_cnn\",\n",
    "    \"val_best_f1\": ckpt_custom.get(\"val_f1\", None),\n",
    "    \"test_loss\": cust_loss,\n",
    "    \"test_acc\":  cust_acc,\n",
    "    \"test_macro_f1\": cust_f1,\n",
    "    \"precision_macro\": None,   # you can compute again if needed\n",
    "    \"recall_macro\": None,\n",
    "    \"weights\": \"custom_cnn_best.pt\"\n",
    "}\n",
    "\n",
    "df_combined = pd.concat([df, pd.DataFrame([custom_row])], ignore_index=True).sort_values(\"test_macro_f1\", ascending=False)\n",
    "display(df_combined)\n",
    "df_combined.to_csv(\"combined_results_with_custom.csv\", index=False)\n",
    "print(\"Saved: combined_results_with_custom.csv\")\n"
   ]
  }
 ],
 "metadata": {
  "kaggle": {
   "accelerator": "gpu",
   "dataSources": [
    {
     "datasetId": 8135555,
     "sourceId": 12862001,
     "sourceType": "datasetVersion"
    },
    {
     "isSourceIdPinned": true,
     "modelId": 435600,
     "modelInstanceId": 417931,
     "sourceId": 540791,
     "sourceType": "modelInstanceVersion"
    }
   ],
   "isGpuEnabled": true,
   "isInternetEnabled": true,
   "language": "python",
   "sourceType": "notebook"
  },
  "kernelspec": {
   "display_name": "Python 3",
   "language": "python",
   "name": "python3"
  },
  "language_info": {
   "codemirror_mode": {
    "name": "ipython",
    "version": 3
   },
   "file_extension": ".py",
   "mimetype": "text/x-python",
   "name": "python",
   "nbconvert_exporter": "python",
   "pygments_lexer": "ipython3",
   "version": "3.11.13"
  }
 },
 "nbformat": 4,
 "nbformat_minor": 4
}
